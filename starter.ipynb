{
 "cells": [
  {
   "cell_type": "code",
   "execution_count": 1,
   "metadata": {},
   "outputs": [],
   "source": [
    "import pandas as pd\n",
    "import numpy as np\n",
    "from python_codes import classification_framework as cf\n",
    "from sklearn.ensemble import GradientBoostingClassifier, RandomForestClassifier\n",
    "from sklearn.tree import DecisionTreeClassifier\n",
    "from sklearn.preprocessing import PolynomialFeatures\n",
    "from sklearn.model_selection import train_test_split, cross_val_score, GridSearchCV\n",
    "import statsmodels.api as sm\n",
    "import matplotlib.pyplot as plt"
   ]
  },
  {
   "cell_type": "code",
   "execution_count": 2,
   "metadata": {},
   "outputs": [],
   "source": [
    "data = pd.read_csv(\"./data/cheap_train_sample.csv\")"
   ]
  },
  {
   "cell_type": "code",
   "execution_count": 3,
   "metadata": {},
   "outputs": [
    {
     "data": {
      "text/plain": [
       "(6513, 14)"
      ]
     },
     "execution_count": 3,
     "metadata": {},
     "output_type": "execute_result"
    }
   ],
   "source": [
    "data.shape"
   ]
  },
  {
   "cell_type": "code",
   "execution_count": 4,
   "metadata": {},
   "outputs": [
    {
     "data": {
      "text/plain": [
       "age               0\n",
       "workclass         0\n",
       "fnlwgt            0\n",
       "education         0\n",
       "education-num     0\n",
       "marital-status    0\n",
       "occupation        0\n",
       "relationship      0\n",
       "sex               0\n",
       "capital-gain      0\n",
       "capital-loss      0\n",
       "hours-per-week    0\n",
       "native-country    0\n",
       "wage              0\n",
       "dtype: int64"
      ]
     },
     "execution_count": 4,
     "metadata": {},
     "output_type": "execute_result"
    }
   ],
   "source": [
    "data.isnull().sum()"
   ]
  },
  {
   "cell_type": "code",
   "execution_count": 5,
   "metadata": {},
   "outputs": [
    {
     "data": {
      "text/html": [
       "<div>\n",
       "<style scoped>\n",
       "    .dataframe tbody tr th:only-of-type {\n",
       "        vertical-align: middle;\n",
       "    }\n",
       "\n",
       "    .dataframe tbody tr th {\n",
       "        vertical-align: top;\n",
       "    }\n",
       "\n",
       "    .dataframe thead th {\n",
       "        text-align: right;\n",
       "    }\n",
       "</style>\n",
       "<table border=\"1\" class=\"dataframe\">\n",
       "  <thead>\n",
       "    <tr style=\"text-align: right;\">\n",
       "      <th></th>\n",
       "      <th>age</th>\n",
       "      <th>workclass</th>\n",
       "      <th>fnlwgt</th>\n",
       "      <th>education</th>\n",
       "      <th>education-num</th>\n",
       "      <th>marital-status</th>\n",
       "      <th>occupation</th>\n",
       "      <th>relationship</th>\n",
       "      <th>sex</th>\n",
       "      <th>capital-gain</th>\n",
       "      <th>capital-loss</th>\n",
       "      <th>hours-per-week</th>\n",
       "      <th>native-country</th>\n",
       "      <th>wage</th>\n",
       "    </tr>\n",
       "  </thead>\n",
       "  <tbody>\n",
       "    <tr>\n",
       "      <th>0</th>\n",
       "      <td>56</td>\n",
       "      <td>Private</td>\n",
       "      <td>346033</td>\n",
       "      <td>9th</td>\n",
       "      <td>5</td>\n",
       "      <td>Divorced</td>\n",
       "      <td>Adm-clerical</td>\n",
       "      <td>Not-in-family</td>\n",
       "      <td>Male</td>\n",
       "      <td>0</td>\n",
       "      <td>0</td>\n",
       "      <td>40</td>\n",
       "      <td>United-States</td>\n",
       "      <td>&lt;=50K</td>\n",
       "    </tr>\n",
       "    <tr>\n",
       "      <th>1</th>\n",
       "      <td>28</td>\n",
       "      <td>Private</td>\n",
       "      <td>96226</td>\n",
       "      <td>HS-grad</td>\n",
       "      <td>9</td>\n",
       "      <td>Married-civ-spouse</td>\n",
       "      <td>Craft-repair</td>\n",
       "      <td>Husband</td>\n",
       "      <td>Male</td>\n",
       "      <td>0</td>\n",
       "      <td>0</td>\n",
       "      <td>45</td>\n",
       "      <td>United-States</td>\n",
       "      <td>&lt;=50K</td>\n",
       "    </tr>\n",
       "    <tr>\n",
       "      <th>2</th>\n",
       "      <td>33</td>\n",
       "      <td>Private</td>\n",
       "      <td>251120</td>\n",
       "      <td>Bachelors</td>\n",
       "      <td>13</td>\n",
       "      <td>Married-civ-spouse</td>\n",
       "      <td>Sales</td>\n",
       "      <td>Husband</td>\n",
       "      <td>Male</td>\n",
       "      <td>7688</td>\n",
       "      <td>0</td>\n",
       "      <td>50</td>\n",
       "      <td>United-States</td>\n",
       "      <td>&gt;50K</td>\n",
       "    </tr>\n",
       "    <tr>\n",
       "      <th>3</th>\n",
       "      <td>26</td>\n",
       "      <td>Private</td>\n",
       "      <td>178140</td>\n",
       "      <td>Bachelors</td>\n",
       "      <td>13</td>\n",
       "      <td>Married-civ-spouse</td>\n",
       "      <td>Other-service</td>\n",
       "      <td>Husband</td>\n",
       "      <td>Male</td>\n",
       "      <td>0</td>\n",
       "      <td>0</td>\n",
       "      <td>45</td>\n",
       "      <td>United-States</td>\n",
       "      <td>&gt;50K</td>\n",
       "    </tr>\n",
       "    <tr>\n",
       "      <th>4</th>\n",
       "      <td>40</td>\n",
       "      <td>Federal-gov</td>\n",
       "      <td>56795</td>\n",
       "      <td>Masters</td>\n",
       "      <td>14</td>\n",
       "      <td>Never-married</td>\n",
       "      <td>Exec-managerial</td>\n",
       "      <td>Not-in-family</td>\n",
       "      <td>Female</td>\n",
       "      <td>14084</td>\n",
       "      <td>0</td>\n",
       "      <td>55</td>\n",
       "      <td>United-States</td>\n",
       "      <td>&gt;50K</td>\n",
       "    </tr>\n",
       "    <tr>\n",
       "      <th>...</th>\n",
       "      <td>...</td>\n",
       "      <td>...</td>\n",
       "      <td>...</td>\n",
       "      <td>...</td>\n",
       "      <td>...</td>\n",
       "      <td>...</td>\n",
       "      <td>...</td>\n",
       "      <td>...</td>\n",
       "      <td>...</td>\n",
       "      <td>...</td>\n",
       "      <td>...</td>\n",
       "      <td>...</td>\n",
       "      <td>...</td>\n",
       "      <td>...</td>\n",
       "    </tr>\n",
       "    <tr>\n",
       "      <th>6508</th>\n",
       "      <td>29</td>\n",
       "      <td>Private</td>\n",
       "      <td>198997</td>\n",
       "      <td>HS-grad</td>\n",
       "      <td>9</td>\n",
       "      <td>Married-civ-spouse</td>\n",
       "      <td>Adm-clerical</td>\n",
       "      <td>Wife</td>\n",
       "      <td>Female</td>\n",
       "      <td>0</td>\n",
       "      <td>0</td>\n",
       "      <td>20</td>\n",
       "      <td>United-States</td>\n",
       "      <td>&lt;=50K</td>\n",
       "    </tr>\n",
       "    <tr>\n",
       "      <th>6509</th>\n",
       "      <td>17</td>\n",
       "      <td>Private</td>\n",
       "      <td>46496</td>\n",
       "      <td>11th</td>\n",
       "      <td>7</td>\n",
       "      <td>Never-married</td>\n",
       "      <td>Other-service</td>\n",
       "      <td>Own-child</td>\n",
       "      <td>Male</td>\n",
       "      <td>0</td>\n",
       "      <td>0</td>\n",
       "      <td>5</td>\n",
       "      <td>United-States</td>\n",
       "      <td>&lt;=50K</td>\n",
       "    </tr>\n",
       "    <tr>\n",
       "      <th>6510</th>\n",
       "      <td>31</td>\n",
       "      <td>Local-gov</td>\n",
       "      <td>381153</td>\n",
       "      <td>Some-college</td>\n",
       "      <td>10</td>\n",
       "      <td>Married-civ-spouse</td>\n",
       "      <td>Protective-serv</td>\n",
       "      <td>Husband</td>\n",
       "      <td>Male</td>\n",
       "      <td>15024</td>\n",
       "      <td>0</td>\n",
       "      <td>56</td>\n",
       "      <td>United-States</td>\n",
       "      <td>&gt;50K</td>\n",
       "    </tr>\n",
       "    <tr>\n",
       "      <th>6511</th>\n",
       "      <td>35</td>\n",
       "      <td>Private</td>\n",
       "      <td>385412</td>\n",
       "      <td>Bachelors</td>\n",
       "      <td>13</td>\n",
       "      <td>Never-married</td>\n",
       "      <td>Adm-clerical</td>\n",
       "      <td>Not-in-family</td>\n",
       "      <td>Female</td>\n",
       "      <td>0</td>\n",
       "      <td>0</td>\n",
       "      <td>40</td>\n",
       "      <td>United-States</td>\n",
       "      <td>&lt;=50K</td>\n",
       "    </tr>\n",
       "    <tr>\n",
       "      <th>6512</th>\n",
       "      <td>40</td>\n",
       "      <td>Private</td>\n",
       "      <td>223277</td>\n",
       "      <td>Bachelors</td>\n",
       "      <td>13</td>\n",
       "      <td>Married-civ-spouse</td>\n",
       "      <td>Adm-clerical</td>\n",
       "      <td>Husband</td>\n",
       "      <td>Male</td>\n",
       "      <td>0</td>\n",
       "      <td>0</td>\n",
       "      <td>50</td>\n",
       "      <td>United-States</td>\n",
       "      <td>&gt;50K</td>\n",
       "    </tr>\n",
       "  </tbody>\n",
       "</table>\n",
       "<p>6513 rows × 14 columns</p>\n",
       "</div>"
      ],
      "text/plain": [
       "      age     workclass  fnlwgt      education  education-num  \\\n",
       "0      56       Private  346033            9th              5   \n",
       "1      28       Private   96226        HS-grad              9   \n",
       "2      33       Private  251120      Bachelors             13   \n",
       "3      26       Private  178140      Bachelors             13   \n",
       "4      40   Federal-gov   56795        Masters             14   \n",
       "...   ...           ...     ...            ...            ...   \n",
       "6508   29       Private  198997        HS-grad              9   \n",
       "6509   17       Private   46496           11th              7   \n",
       "6510   31     Local-gov  381153   Some-college             10   \n",
       "6511   35       Private  385412      Bachelors             13   \n",
       "6512   40       Private  223277      Bachelors             13   \n",
       "\n",
       "           marital-status        occupation    relationship      sex  \\\n",
       "0                Divorced      Adm-clerical   Not-in-family     Male   \n",
       "1      Married-civ-spouse      Craft-repair         Husband     Male   \n",
       "2      Married-civ-spouse             Sales         Husband     Male   \n",
       "3      Married-civ-spouse     Other-service         Husband     Male   \n",
       "4           Never-married   Exec-managerial   Not-in-family   Female   \n",
       "...                   ...               ...             ...      ...   \n",
       "6508   Married-civ-spouse      Adm-clerical            Wife   Female   \n",
       "6509        Never-married     Other-service       Own-child     Male   \n",
       "6510   Married-civ-spouse   Protective-serv         Husband     Male   \n",
       "6511        Never-married      Adm-clerical   Not-in-family   Female   \n",
       "6512   Married-civ-spouse      Adm-clerical         Husband     Male   \n",
       "\n",
       "      capital-gain  capital-loss  hours-per-week  native-country    wage  \n",
       "0                0             0              40   United-States   <=50K  \n",
       "1                0             0              45   United-States   <=50K  \n",
       "2             7688             0              50   United-States    >50K  \n",
       "3                0             0              45   United-States    >50K  \n",
       "4            14084             0              55   United-States    >50K  \n",
       "...            ...           ...             ...             ...     ...  \n",
       "6508             0             0              20   United-States   <=50K  \n",
       "6509             0             0               5   United-States   <=50K  \n",
       "6510         15024             0              56   United-States    >50K  \n",
       "6511             0             0              40   United-States   <=50K  \n",
       "6512             0             0              50   United-States    >50K  \n",
       "\n",
       "[6513 rows x 14 columns]"
      ]
     },
     "execution_count": 5,
     "metadata": {},
     "output_type": "execute_result"
    }
   ],
   "source": [
    "data"
   ]
  },
  {
   "cell_type": "code",
   "execution_count": 37,
   "metadata": {},
   "outputs": [],
   "source": [
    "cdata = data.copy()"
   ]
  },
  {
   "cell_type": "code",
   "execution_count": 7,
   "metadata": {},
   "outputs": [],
   "source": [
    "def something(x):\n",
    "    return 1 if x == \" Married-AF-spouse\" or x == \" Married-civ-spouse\" else 0\n",
    "cdata[\"marital-status\"] = cdata[\"marital-status\"].map(something)"
   ]
  },
  {
   "cell_type": "code",
   "execution_count": null,
   "metadata": {},
   "outputs": [],
   "source": []
  },
  {
   "cell_type": "code",
   "execution_count": 8,
   "metadata": {},
   "outputs": [
    {
     "data": {
      "text/plain": [
       "marital-status  wage  \n",
       "0                <=50K    3303\n",
       "                 >50K      225\n",
       "1                <=50K    1642\n",
       "                 >50K     1343\n",
       "Name: wage, dtype: int64"
      ]
     },
     "execution_count": 8,
     "metadata": {},
     "output_type": "execute_result"
    }
   ],
   "source": [
    "cdata.groupby(\"marital-status\")[\"wage\"].value_counts()"
   ]
  },
  {
   "cell_type": "code",
   "execution_count": 366,
   "metadata": {},
   "outputs": [
    {
     "data": {
      "text/plain": [
       "0.44991624790619766"
      ]
     },
     "execution_count": 366,
     "metadata": {},
     "output_type": "execute_result"
    }
   ],
   "source": [
    "1343/(1343+1642)"
   ]
  },
  {
   "cell_type": "code",
   "execution_count": 367,
   "metadata": {},
   "outputs": [
    {
     "data": {
      "text/plain": [
       "0.06377551020408163"
      ]
     },
     "execution_count": 367,
     "metadata": {},
     "output_type": "execute_result"
    }
   ],
   "source": [
    "225/(225+3303)"
   ]
  },
  {
   "cell_type": "code",
   "execution_count": 38,
   "metadata": {},
   "outputs": [],
   "source": [
    "def map_country(x):\n",
    "    return 1 if x == \" United-States\" else 0\n",
    "\n",
    "# cdata[cdata[\"native-country\"] ==  ' United-States']\n",
    "cdata[\"native-country\"] = cdata[\"native-country\"].map(map_country)"
   ]
  },
  {
   "cell_type": "code",
   "execution_count": 39,
   "metadata": {},
   "outputs": [
    {
     "data": {
      "text/plain": [
       "array([1, 0])"
      ]
     },
     "execution_count": 39,
     "metadata": {},
     "output_type": "execute_result"
    }
   ],
   "source": [
    "cdata[\"native-country\"].unique()"
   ]
  },
  {
   "cell_type": "code",
   "execution_count": 40,
   "metadata": {},
   "outputs": [],
   "source": [
    "cdata[\"wage\"] = cdata[\"wage\"].map({' <=50K':0, ' >50K': 1})"
   ]
  },
  {
   "cell_type": "code",
   "execution_count": 41,
   "metadata": {},
   "outputs": [
    {
     "data": {
      "text/plain": [
       "0    4945\n",
       "1    1568\n",
       "Name: wage, dtype: int64"
      ]
     },
     "execution_count": 41,
     "metadata": {},
     "output_type": "execute_result"
    }
   ],
   "source": [
    "cdata[\"wage\"].value_counts()"
   ]
  },
  {
   "cell_type": "code",
   "execution_count": 42,
   "metadata": {},
   "outputs": [],
   "source": [
    "#binning the age\n",
    "##bin the age\n",
    "def bin_age(x):\n",
    "    m = x  % 10\n",
    "    if m <= 5:\n",
    "        return int(x - m)\n",
    "    else:\n",
    "        return int(np.ceil(x/10) * 10)\n",
    "    \n",
    "#highlight minimum value form the data frame\n",
    "def highlight_min(s):    \n",
    "    is_min = s == s.min()\n",
    "    return ['background-color: lightgreen' if v else '' for v in is_min]\n",
    "\n",
    "#highlight max value from the data frame\n",
    "def highlight_max(s):    \n",
    "    is_max = s == s.max()\n",
    "    return ['background-color: lightgreen' if v else '' for v in is_max]"
   ]
  },
  {
   "cell_type": "code",
   "execution_count": 43,
   "metadata": {},
   "outputs": [],
   "source": [
    "cdata[\"bin_age\"] = cdata[\"age\"].map(bin_age)"
   ]
  },
  {
   "cell_type": "code",
   "execution_count": 44,
   "metadata": {},
   "outputs": [
    {
     "data": {
      "text/plain": [
       "array([60, 30, 40, 70, 50, 20, 80, 90])"
      ]
     },
     "execution_count": 44,
     "metadata": {},
     "output_type": "execute_result"
    }
   ],
   "source": [
    "cdata[\"bin_age\"].unique()"
   ]
  },
  {
   "cell_type": "code",
   "execution_count": 45,
   "metadata": {},
   "outputs": [],
   "source": [
    "cdata[\"new_yrs_of_exp\"] = cdata[\"age\"] - 17"
   ]
  },
  {
   "cell_type": "code",
   "execution_count": 46,
   "metadata": {},
   "outputs": [],
   "source": [
    "cdata[\"bin_hours-per-week\"] = cdata[\"hours-per-week\"].map(bin_age)"
   ]
  },
  {
   "cell_type": "code",
   "execution_count": 47,
   "metadata": {},
   "outputs": [],
   "source": [
    "# cdata[\"new_net_capital\"] = cdata[\"capital-gain\"] - cdata[\"capital-loss\"]"
   ]
  },
  {
   "cell_type": "code",
   "execution_count": 48,
   "metadata": {},
   "outputs": [],
   "source": [
    "# cdata.drop(columns=[\"fnlwgt\", \"education\", \"capital-gain\", \"capital-loss\", \"native-country\"], inplace=True)\n",
    "cdata.drop(columns=[\"fnlwgt\", \"education\", \"capital-gain\", \"capital-loss\"], inplace=True)"
   ]
  },
  {
   "cell_type": "code",
   "execution_count": 49,
   "metadata": {},
   "outputs": [],
   "source": [
    "cdata = pd.get_dummies(cdata, columns=[\"workclass\", \"marital-status\", \"relationship\", \"occupation\", \"sex\"])"
   ]
  },
  {
   "cell_type": "code",
   "execution_count": 50,
   "metadata": {},
   "outputs": [
    {
     "data": {
      "text/plain": [
       "(6513, 47)"
      ]
     },
     "execution_count": 50,
     "metadata": {},
     "output_type": "execute_result"
    }
   ],
   "source": [
    "cdata.shape"
   ]
  },
  {
   "cell_type": "code",
   "execution_count": 51,
   "metadata": {},
   "outputs": [],
   "source": [
    "feature_list_2 = list(cdata.columns)"
   ]
  },
  {
   "cell_type": "code",
   "execution_count": 52,
   "metadata": {},
   "outputs": [],
   "source": [
    "feature_list_2.remove(\"wage\")"
   ]
  },
  {
   "cell_type": "code",
   "execution_count": 28,
   "metadata": {},
   "outputs": [],
   "source": [
    "feature_list = ['age',\n",
    " 'education-num',\n",
    " 'hours-per-week',\n",
    " 'wage',\n",
    " 'bin_age',\n",
    " 'bin_hours-per-week',\n",
    " 'workclass_ ?',\n",
    " 'workclass_ Federal-gov',\n",
    " 'workclass_ Local-gov',\n",
    " 'workclass_ Never-worked',\n",
    " 'workclass_ Private',\n",
    " 'workclass_ Self-emp-inc',\n",
    " 'workclass_ Self-emp-not-inc',\n",
    " 'workclass_ State-gov',\n",
    " 'workclass_ Without-pay',\n",
    " 'marital-status_ Divorced',\n",
    " 'marital-status_ Married-AF-spouse',\n",
    " 'marital-status_ Married-civ-spouse',\n",
    " 'marital-status_ Married-spouse-absent',\n",
    " 'marital-status_ Never-married',\n",
    " 'marital-status_ Separated',\n",
    " 'marital-status_ Widowed',\n",
    " 'occupation_ ?',\n",
    " 'occupation_ Adm-clerical',\n",
    " 'occupation_ Armed-Forces',\n",
    " 'occupation_ Craft-repair',\n",
    " 'occupation_ Exec-managerial',\n",
    " 'occupation_ Farming-fishing',\n",
    " 'occupation_ Handlers-cleaners',\n",
    " 'occupation_ Machine-op-inspct',\n",
    " 'occupation_ Other-service',\n",
    " 'occupation_ Priv-house-serv',\n",
    " 'occupation_ Prof-specialty',\n",
    " 'occupation_ Protective-serv',\n",
    " 'occupation_ Sales',\n",
    " 'occupation_ Tech-support',\n",
    " 'occupation_ Transport-moving',\n",
    " 'relationship_ Husband',\n",
    " 'relationship_ Not-in-family',\n",
    " 'relationship_ Other-relative',\n",
    " 'relationship_ Own-child',\n",
    " 'relationship_ Unmarried',\n",
    " 'relationship_ Wife',\n",
    " 'sex_ Female',\n",
    " 'sex_ Male']"
   ]
  },
  {
   "cell_type": "code",
   "execution_count": 53,
   "metadata": {},
   "outputs": [
    {
     "name": "stdout",
     "output_type": "stream",
     "text": [
      "Feature Selection completed for 1\n",
      "Feature Selection completed for 2\n",
      "Feature Selection completed for 3\n",
      "Feature Selection completed for 7\n",
      "Feature Selection completed for 8\n",
      "Feature Selection completed for 9\n",
      "Feature Selection completed for 10\n",
      "Feature Selection completed for 12\n",
      "Feature Selection completed..\n",
      "Round 1 complete for feature set 1\n",
      "Round 1 complete for feature set 2\n",
      "Round 2 complete for feature set 1\n",
      "Round 2 complete for feature set 2\n",
      "Round 3 complete for feature set 1\n",
      "Round 3 complete for feature set 2\n",
      "Round 4 complete for feature set 1\n",
      "Round 5 complete for feature set 1\n",
      "Round 6 complete for feature set 1\n",
      "Round 7 complete for feature set 1\n",
      "Round 7 complete for feature set 2\n",
      "Round 8 complete for feature set 1\n",
      "Round 8 complete for feature set 2\n",
      "Round 9 complete for feature set 1\n",
      "Round 9 complete for feature set 2\n",
      "Round 10 complete for feature set 1\n",
      "Round 10 complete for feature set 2\n",
      "Round 11 complete for feature set 1\n",
      "Round 12 complete for feature set 1\n",
      "Round 12 complete for feature set 2\n"
     ]
    }
   ],
   "source": [
    "best_scores = cf.get_best_scores_params(cdata,\"wage\", feature_list_2)"
   ]
  },
  {
   "cell_type": "code",
   "execution_count": 54,
   "metadata": {},
   "outputs": [],
   "source": [
    "metrics_dict = {fno: {cfn: [] for cfn in range(1,len(best_scores[1])+1)} for fno in range(1,len(best_scores)+1)}\n",
    "metrics_mis_dict = {fno: {cfn: [] for cfn in range(1,len(best_scores[1])+1)} for fno in range(1,len(best_scores)+1)}"
   ]
  },
  {
   "cell_type": "code",
   "execution_count": 55,
   "metadata": {},
   "outputs": [],
   "source": [
    "for cfn in range(1,len(best_scores[1])+1):\n",
    "    for feature_no in range(1,len(best_scores)+1):\n",
    "        try:\n",
    "            metrics_dict[feature_no][cfn] = best_scores[feature_no][cfn][0]\n",
    "            metrics_mis_dict[feature_no][cfn] = best_scores[feature_no][cfn][2][\"Mis Calculations\"]\n",
    "        except:\n",
    "            metrics_dict[feature_no][cfn] = 0\n",
    "            metrics_mis_dict[feature_no][cfn] = float(\"inf\")"
   ]
  },
  {
   "cell_type": "code",
   "execution_count": 56,
   "metadata": {},
   "outputs": [
    {
     "data": {
      "text/html": [
       "<style  type=\"text/css\" >\n",
       "    #T_0698acbe_46dc_11ea_8569_80e650232554row0_col0 {\n",
       "            background-color:  lightgreen;\n",
       "        }    #T_0698acbe_46dc_11ea_8569_80e650232554row1_col0 {\n",
       "            background-color:  lightgreen;\n",
       "        }    #T_0698acbe_46dc_11ea_8569_80e650232554row9_col0 {\n",
       "            background-color:  lightgreen;\n",
       "        }    #T_0698acbe_46dc_11ea_8569_80e650232554row9_col1 {\n",
       "            background-color:  lightgreen;\n",
       "        }</style><table id=\"T_0698acbe_46dc_11ea_8569_80e650232554\" ><thead>    <tr>        <th class=\"blank level0\" ></th>        <th class=\"col_heading level0 col0\" >1</th>        <th class=\"col_heading level0 col1\" >2</th>    </tr></thead><tbody>\n",
       "                <tr>\n",
       "                        <th id=\"T_0698acbe_46dc_11ea_8569_80e650232554level0_row0\" class=\"row_heading level0 row0\" >1</th>\n",
       "                        <td id=\"T_0698acbe_46dc_11ea_8569_80e650232554row0_col0\" class=\"data row0 col0\" >0.83</td>\n",
       "                        <td id=\"T_0698acbe_46dc_11ea_8569_80e650232554row0_col1\" class=\"data row0 col1\" >0.82</td>\n",
       "            </tr>\n",
       "            <tr>\n",
       "                        <th id=\"T_0698acbe_46dc_11ea_8569_80e650232554level0_row1\" class=\"row_heading level0 row1\" >2</th>\n",
       "                        <td id=\"T_0698acbe_46dc_11ea_8569_80e650232554row1_col0\" class=\"data row1 col0\" >0.83</td>\n",
       "                        <td id=\"T_0698acbe_46dc_11ea_8569_80e650232554row1_col1\" class=\"data row1 col1\" >0.82</td>\n",
       "            </tr>\n",
       "            <tr>\n",
       "                        <th id=\"T_0698acbe_46dc_11ea_8569_80e650232554level0_row2\" class=\"row_heading level0 row2\" >3</th>\n",
       "                        <td id=\"T_0698acbe_46dc_11ea_8569_80e650232554row2_col0\" class=\"data row2 col0\" >0.76</td>\n",
       "                        <td id=\"T_0698acbe_46dc_11ea_8569_80e650232554row2_col1\" class=\"data row2 col1\" >0.75</td>\n",
       "            </tr>\n",
       "            <tr>\n",
       "                        <th id=\"T_0698acbe_46dc_11ea_8569_80e650232554level0_row3\" class=\"row_heading level0 row3\" >4</th>\n",
       "                        <td id=\"T_0698acbe_46dc_11ea_8569_80e650232554row3_col0\" class=\"data row3 col0\" >0.82</td>\n",
       "                        <td id=\"T_0698acbe_46dc_11ea_8569_80e650232554row3_col1\" class=\"data row3 col1\" >0</td>\n",
       "            </tr>\n",
       "            <tr>\n",
       "                        <th id=\"T_0698acbe_46dc_11ea_8569_80e650232554level0_row4\" class=\"row_heading level0 row4\" >5</th>\n",
       "                        <td id=\"T_0698acbe_46dc_11ea_8569_80e650232554row4_col0\" class=\"data row4 col0\" >0.8</td>\n",
       "                        <td id=\"T_0698acbe_46dc_11ea_8569_80e650232554row4_col1\" class=\"data row4 col1\" >0</td>\n",
       "            </tr>\n",
       "            <tr>\n",
       "                        <th id=\"T_0698acbe_46dc_11ea_8569_80e650232554level0_row5\" class=\"row_heading level0 row5\" >6</th>\n",
       "                        <td id=\"T_0698acbe_46dc_11ea_8569_80e650232554row5_col0\" class=\"data row5 col0\" >0.66</td>\n",
       "                        <td id=\"T_0698acbe_46dc_11ea_8569_80e650232554row5_col1\" class=\"data row5 col1\" >0</td>\n",
       "            </tr>\n",
       "            <tr>\n",
       "                        <th id=\"T_0698acbe_46dc_11ea_8569_80e650232554level0_row6\" class=\"row_heading level0 row6\" >7</th>\n",
       "                        <td id=\"T_0698acbe_46dc_11ea_8569_80e650232554row6_col0\" class=\"data row6 col0\" >0.81</td>\n",
       "                        <td id=\"T_0698acbe_46dc_11ea_8569_80e650232554row6_col1\" class=\"data row6 col1\" >0.81</td>\n",
       "            </tr>\n",
       "            <tr>\n",
       "                        <th id=\"T_0698acbe_46dc_11ea_8569_80e650232554level0_row7\" class=\"row_heading level0 row7\" >8</th>\n",
       "                        <td id=\"T_0698acbe_46dc_11ea_8569_80e650232554row7_col0\" class=\"data row7 col0\" >0.8</td>\n",
       "                        <td id=\"T_0698acbe_46dc_11ea_8569_80e650232554row7_col1\" class=\"data row7 col1\" >0.79</td>\n",
       "            </tr>\n",
       "            <tr>\n",
       "                        <th id=\"T_0698acbe_46dc_11ea_8569_80e650232554level0_row8\" class=\"row_heading level0 row8\" >9</th>\n",
       "                        <td id=\"T_0698acbe_46dc_11ea_8569_80e650232554row8_col0\" class=\"data row8 col0\" >0.8</td>\n",
       "                        <td id=\"T_0698acbe_46dc_11ea_8569_80e650232554row8_col1\" class=\"data row8 col1\" >0.79</td>\n",
       "            </tr>\n",
       "            <tr>\n",
       "                        <th id=\"T_0698acbe_46dc_11ea_8569_80e650232554level0_row9\" class=\"row_heading level0 row9\" >10</th>\n",
       "                        <td id=\"T_0698acbe_46dc_11ea_8569_80e650232554row9_col0\" class=\"data row9 col0\" >0.83</td>\n",
       "                        <td id=\"T_0698acbe_46dc_11ea_8569_80e650232554row9_col1\" class=\"data row9 col1\" >0.83</td>\n",
       "            </tr>\n",
       "            <tr>\n",
       "                        <th id=\"T_0698acbe_46dc_11ea_8569_80e650232554level0_row10\" class=\"row_heading level0 row10\" >11</th>\n",
       "                        <td id=\"T_0698acbe_46dc_11ea_8569_80e650232554row10_col0\" class=\"data row10 col0\" >0.8</td>\n",
       "                        <td id=\"T_0698acbe_46dc_11ea_8569_80e650232554row10_col1\" class=\"data row10 col1\" >0</td>\n",
       "            </tr>\n",
       "            <tr>\n",
       "                        <th id=\"T_0698acbe_46dc_11ea_8569_80e650232554level0_row11\" class=\"row_heading level0 row11\" >12</th>\n",
       "                        <td id=\"T_0698acbe_46dc_11ea_8569_80e650232554row11_col0\" class=\"data row11 col0\" >0.75</td>\n",
       "                        <td id=\"T_0698acbe_46dc_11ea_8569_80e650232554row11_col1\" class=\"data row11 col1\" >0.73</td>\n",
       "            </tr>\n",
       "    </tbody></table>"
      ],
      "text/plain": [
       "<pandas.io.formats.style.Styler at 0x1c1e3dccd0>"
      ]
     },
     "execution_count": 56,
     "metadata": {},
     "output_type": "execute_result"
    }
   ],
   "source": [
    "pd.DataFrame(metrics_dict).style.apply(highlight_max)"
   ]
  },
  {
   "cell_type": "code",
   "execution_count": 57,
   "metadata": {},
   "outputs": [
    {
     "data": {
      "text/html": [
       "<style  type=\"text/css\" >\n",
       "    #T_087e22c0_46dc_11ea_8569_80e650232554row9_col0 {\n",
       "            background-color:  lightgreen;\n",
       "        }    #T_087e22c0_46dc_11ea_8569_80e650232554row9_col1 {\n",
       "            background-color:  lightgreen;\n",
       "        }</style><table id=\"T_087e22c0_46dc_11ea_8569_80e650232554\" ><thead>    <tr>        <th class=\"blank level0\" ></th>        <th class=\"col_heading level0 col0\" >1</th>        <th class=\"col_heading level0 col1\" >2</th>    </tr></thead><tbody>\n",
       "                <tr>\n",
       "                        <th id=\"T_087e22c0_46dc_11ea_8569_80e650232554level0_row0\" class=\"row_heading level0 row0\" >1</th>\n",
       "                        <td id=\"T_087e22c0_46dc_11ea_8569_80e650232554row0_col0\" class=\"data row0 col0\" >0.17</td>\n",
       "                        <td id=\"T_087e22c0_46dc_11ea_8569_80e650232554row0_col1\" class=\"data row0 col1\" >0.18</td>\n",
       "            </tr>\n",
       "            <tr>\n",
       "                        <th id=\"T_087e22c0_46dc_11ea_8569_80e650232554level0_row1\" class=\"row_heading level0 row1\" >2</th>\n",
       "                        <td id=\"T_087e22c0_46dc_11ea_8569_80e650232554row1_col0\" class=\"data row1 col0\" >0.17</td>\n",
       "                        <td id=\"T_087e22c0_46dc_11ea_8569_80e650232554row1_col1\" class=\"data row1 col1\" >0.18</td>\n",
       "            </tr>\n",
       "            <tr>\n",
       "                        <th id=\"T_087e22c0_46dc_11ea_8569_80e650232554level0_row2\" class=\"row_heading level0 row2\" >3</th>\n",
       "                        <td id=\"T_087e22c0_46dc_11ea_8569_80e650232554row2_col0\" class=\"data row2 col0\" >0.24</td>\n",
       "                        <td id=\"T_087e22c0_46dc_11ea_8569_80e650232554row2_col1\" class=\"data row2 col1\" >0.26</td>\n",
       "            </tr>\n",
       "            <tr>\n",
       "                        <th id=\"T_087e22c0_46dc_11ea_8569_80e650232554level0_row3\" class=\"row_heading level0 row3\" >4</th>\n",
       "                        <td id=\"T_087e22c0_46dc_11ea_8569_80e650232554row3_col0\" class=\"data row3 col0\" >0.17</td>\n",
       "                        <td id=\"T_087e22c0_46dc_11ea_8569_80e650232554row3_col1\" class=\"data row3 col1\" >inf</td>\n",
       "            </tr>\n",
       "            <tr>\n",
       "                        <th id=\"T_087e22c0_46dc_11ea_8569_80e650232554level0_row4\" class=\"row_heading level0 row4\" >5</th>\n",
       "                        <td id=\"T_087e22c0_46dc_11ea_8569_80e650232554row4_col0\" class=\"data row4 col0\" >0.19</td>\n",
       "                        <td id=\"T_087e22c0_46dc_11ea_8569_80e650232554row4_col1\" class=\"data row4 col1\" >inf</td>\n",
       "            </tr>\n",
       "            <tr>\n",
       "                        <th id=\"T_087e22c0_46dc_11ea_8569_80e650232554level0_row5\" class=\"row_heading level0 row5\" >6</th>\n",
       "                        <td id=\"T_087e22c0_46dc_11ea_8569_80e650232554row5_col0\" class=\"data row5 col0\" >0.35</td>\n",
       "                        <td id=\"T_087e22c0_46dc_11ea_8569_80e650232554row5_col1\" class=\"data row5 col1\" >inf</td>\n",
       "            </tr>\n",
       "            <tr>\n",
       "                        <th id=\"T_087e22c0_46dc_11ea_8569_80e650232554level0_row6\" class=\"row_heading level0 row6\" >7</th>\n",
       "                        <td id=\"T_087e22c0_46dc_11ea_8569_80e650232554row6_col0\" class=\"data row6 col0\" >0.19</td>\n",
       "                        <td id=\"T_087e22c0_46dc_11ea_8569_80e650232554row6_col1\" class=\"data row6 col1\" >0.19</td>\n",
       "            </tr>\n",
       "            <tr>\n",
       "                        <th id=\"T_087e22c0_46dc_11ea_8569_80e650232554level0_row7\" class=\"row_heading level0 row7\" >8</th>\n",
       "                        <td id=\"T_087e22c0_46dc_11ea_8569_80e650232554row7_col0\" class=\"data row7 col0\" >0.17</td>\n",
       "                        <td id=\"T_087e22c0_46dc_11ea_8569_80e650232554row7_col1\" class=\"data row7 col1\" >0.2</td>\n",
       "            </tr>\n",
       "            <tr>\n",
       "                        <th id=\"T_087e22c0_46dc_11ea_8569_80e650232554level0_row8\" class=\"row_heading level0 row8\" >9</th>\n",
       "                        <td id=\"T_087e22c0_46dc_11ea_8569_80e650232554row8_col0\" class=\"data row8 col0\" >0.19</td>\n",
       "                        <td id=\"T_087e22c0_46dc_11ea_8569_80e650232554row8_col1\" class=\"data row8 col1\" >0.21</td>\n",
       "            </tr>\n",
       "            <tr>\n",
       "                        <th id=\"T_087e22c0_46dc_11ea_8569_80e650232554level0_row9\" class=\"row_heading level0 row9\" >10</th>\n",
       "                        <td id=\"T_087e22c0_46dc_11ea_8569_80e650232554row9_col0\" class=\"data row9 col0\" >0.16</td>\n",
       "                        <td id=\"T_087e22c0_46dc_11ea_8569_80e650232554row9_col1\" class=\"data row9 col1\" >0.17</td>\n",
       "            </tr>\n",
       "            <tr>\n",
       "                        <th id=\"T_087e22c0_46dc_11ea_8569_80e650232554level0_row10\" class=\"row_heading level0 row10\" >11</th>\n",
       "                        <td id=\"T_087e22c0_46dc_11ea_8569_80e650232554row10_col0\" class=\"data row10 col0\" >0.18</td>\n",
       "                        <td id=\"T_087e22c0_46dc_11ea_8569_80e650232554row10_col1\" class=\"data row10 col1\" >inf</td>\n",
       "            </tr>\n",
       "            <tr>\n",
       "                        <th id=\"T_087e22c0_46dc_11ea_8569_80e650232554level0_row11\" class=\"row_heading level0 row11\" >12</th>\n",
       "                        <td id=\"T_087e22c0_46dc_11ea_8569_80e650232554row11_col0\" class=\"data row11 col0\" >0.32</td>\n",
       "                        <td id=\"T_087e22c0_46dc_11ea_8569_80e650232554row11_col1\" class=\"data row11 col1\" >0.23</td>\n",
       "            </tr>\n",
       "    </tbody></table>"
      ],
      "text/plain": [
       "<pandas.io.formats.style.Styler at 0x1c1e4e36d0>"
      ]
     },
     "execution_count": 57,
     "metadata": {},
     "output_type": "execute_result"
    }
   ],
   "source": [
    "pd.DataFrame(metrics_mis_dict).style.apply(highlight_min)"
   ]
  },
  {
   "cell_type": "code",
   "execution_count": 58,
   "metadata": {},
   "outputs": [
    {
     "data": {
      "text/plain": [
       "[0.83,\n",
       " {'classifier__learning_rate': 0.1,\n",
       "  'classifier__max_depth': 3,\n",
       "  'classifier__n_estimators': 100},\n",
       " {'Not eligible for 401k': 1738,\n",
       "  'Eligible for 401k': 412,\n",
       "  'Baseline accuracy%': 0.76,\n",
       "  'Train Scores': 0.85,\n",
       "  'Test Scores': 0.84,\n",
       "  'Accuracy': 0.84,\n",
       "  'Mis Calculations': 0.16,\n",
       "  'Sensitivity': 0.56,\n",
       "  'Specificity': 0.92,\n",
       "  'Precision': 0.7,\n",
       "  'ROC AUC': 0.89,\n",
       "  'F1 score Train': 0.66,\n",
       "  'F1 score Test': 0.62,\n",
       "  'Log Loss score': 5.65,\n",
       "  'Fit Type': 'Overfit'}]"
      ]
     },
     "execution_count": 58,
     "metadata": {},
     "output_type": "execute_result"
    }
   ],
   "source": [
    "best_scores[1][10]"
   ]
  },
  {
   "cell_type": "code",
   "execution_count": 178,
   "metadata": {},
   "outputs": [
    {
     "data": {
      "text/plain": [
       "[0.8,\n",
       " {},\n",
       " {'Not eligible for 401k': 1784,\n",
       "  'Eligible for 401k': 366,\n",
       "  'Baseline accuracy%': 0.76,\n",
       "  'Train Scores': 0.97,\n",
       "  'Test Scores': 0.83,\n",
       "  'Accuracy': 0.83,\n",
       "  'Mis Calculations': 0.17,\n",
       "  'Sensitivity': 0.49,\n",
       "  'Specificity': 0.93,\n",
       "  'Precision': 0.7,\n",
       "  'ROC AUC': 0.85,\n",
       "  'F1 score Train': 0.94,\n",
       "  'F1 score Test': 0.58,\n",
       "  'Log Loss score': 6.01,\n",
       "  'Fit Type': 'Overfit'}]"
      ]
     },
     "execution_count": 178,
     "metadata": {},
     "output_type": "execute_result"
    }
   ],
   "source": [
    "best_scores[1][8]"
   ]
  },
  {
   "cell_type": "code",
   "execution_count": 59,
   "metadata": {},
   "outputs": [],
   "source": [
    "X = cdata.drop(columns=[\"wage\"])\n",
    "y = cdata[\"wage\"]"
   ]
  },
  {
   "cell_type": "code",
   "execution_count": 60,
   "metadata": {},
   "outputs": [
    {
     "data": {
      "text/plain": [
       "46"
      ]
     },
     "execution_count": 60,
     "metadata": {},
     "output_type": "execute_result"
    }
   ],
   "source": [
    "len(list(X.columns))"
   ]
  },
  {
   "cell_type": "code",
   "execution_count": 61,
   "metadata": {},
   "outputs": [],
   "source": [
    "from sklearn.pipeline import Pipeline\n",
    "# Step 1 : split the data into test/train\n",
    "X_train, X_test, y_train, y_test = train_test_split(X, y, shuffle=True, stratify=y, test_size=0.33, random_state=42)\n",
    "\n",
    "pipe = Pipeline([('classifier', GradientBoostingClassifier(random_state=42))])\n",
    "hyper_params = {}\n",
    "\n",
    "# Perform Grid Search\n",
    "gridcv = GridSearchCV(pipe,\n",
    "                      param_grid=hyper_params,\n",
    "                      cv=5,\n",
    "                      scoring=\"roc_auc\")\n",
    "# results\n",
    "results = gridcv.fit(X_train, y_train)"
   ]
  },
  {
   "cell_type": "code",
   "execution_count": 62,
   "metadata": {},
   "outputs": [
    {
     "data": {
      "text/plain": [
       "[0.88,\n",
       " {},\n",
       " {'Not eligible for 401k': 1738,\n",
       "  'Eligible for 401k': 412,\n",
       "  'Baseline accuracy%': 0.76,\n",
       "  'Train Scores': 0.85,\n",
       "  'Test Scores': 0.84,\n",
       "  'Accuracy': 0.84,\n",
       "  'Mis Calculations': 0.16,\n",
       "  'Sensitivity': 0.56,\n",
       "  'Specificity': 0.92,\n",
       "  'Precision': 0.7,\n",
       "  'ROC AUC': 0.89,\n",
       "  'F1 score Train': 0.66,\n",
       "  'F1 score Test': 0.62,\n",
       "  'Log Loss score': 5.65,\n",
       "  'Fit Type': 'Overfit'}]"
      ]
     },
     "execution_count": 62,
     "metadata": {},
     "output_type": "execute_result"
    }
   ],
   "source": [
    "cf.get_score_data(results, X_train, X_test, y_train, y_test)"
   ]
  },
  {
   "cell_type": "code",
   "execution_count": 63,
   "metadata": {},
   "outputs": [
    {
     "data": {
      "text/plain": [
       "0.9174339183303867"
      ]
     },
     "execution_count": 63,
     "metadata": {},
     "output_type": "execute_result"
    }
   ],
   "source": [
    "results.score(X_train, y_train)"
   ]
  },
  {
   "cell_type": "code",
   "execution_count": 64,
   "metadata": {},
   "outputs": [
    {
     "data": {
      "text/plain": [
       "0.8909603537360891"
      ]
     },
     "execution_count": 64,
     "metadata": {},
     "output_type": "execute_result"
    }
   ],
   "source": [
    "results.score(X_test, y_test)"
   ]
  },
  {
   "cell_type": "code",
   "execution_count": 65,
   "metadata": {},
   "outputs": [],
   "source": [
    "cdata[\"y\"] = results.predict(X)"
   ]
  },
  {
   "cell_type": "code",
   "execution_count": 66,
   "metadata": {},
   "outputs": [
    {
     "data": {
      "text/plain": [
       "(6513, 48)"
      ]
     },
     "execution_count": 66,
     "metadata": {},
     "output_type": "execute_result"
    }
   ],
   "source": [
    "cdata.shape"
   ]
  },
  {
   "cell_type": "code",
   "execution_count": 67,
   "metadata": {},
   "outputs": [
    {
     "data": {
      "text/html": [
       "<div>\n",
       "<style scoped>\n",
       "    .dataframe tbody tr th:only-of-type {\n",
       "        vertical-align: middle;\n",
       "    }\n",
       "\n",
       "    .dataframe tbody tr th {\n",
       "        vertical-align: top;\n",
       "    }\n",
       "\n",
       "    .dataframe thead th {\n",
       "        text-align: right;\n",
       "    }\n",
       "</style>\n",
       "<table border=\"1\" class=\"dataframe\">\n",
       "  <thead>\n",
       "    <tr style=\"text-align: right;\">\n",
       "      <th></th>\n",
       "      <th>age</th>\n",
       "      <th>education-num</th>\n",
       "      <th>hours-per-week</th>\n",
       "      <th>native-country</th>\n",
       "      <th>wage</th>\n",
       "      <th>bin_age</th>\n",
       "      <th>new_yrs_of_exp</th>\n",
       "      <th>bin_hours-per-week</th>\n",
       "      <th>workclass_ ?</th>\n",
       "      <th>workclass_ Federal-gov</th>\n",
       "      <th>...</th>\n",
       "      <th>occupation_ Other-service</th>\n",
       "      <th>occupation_ Priv-house-serv</th>\n",
       "      <th>occupation_ Prof-specialty</th>\n",
       "      <th>occupation_ Protective-serv</th>\n",
       "      <th>occupation_ Sales</th>\n",
       "      <th>occupation_ Tech-support</th>\n",
       "      <th>occupation_ Transport-moving</th>\n",
       "      <th>sex_ Female</th>\n",
       "      <th>sex_ Male</th>\n",
       "      <th>y</th>\n",
       "    </tr>\n",
       "  </thead>\n",
       "  <tbody>\n",
       "    <tr>\n",
       "      <th>0</th>\n",
       "      <td>56</td>\n",
       "      <td>5</td>\n",
       "      <td>40</td>\n",
       "      <td>1</td>\n",
       "      <td>0</td>\n",
       "      <td>60</td>\n",
       "      <td>39</td>\n",
       "      <td>40</td>\n",
       "      <td>0</td>\n",
       "      <td>0</td>\n",
       "      <td>...</td>\n",
       "      <td>0</td>\n",
       "      <td>0</td>\n",
       "      <td>0</td>\n",
       "      <td>0</td>\n",
       "      <td>0</td>\n",
       "      <td>0</td>\n",
       "      <td>0</td>\n",
       "      <td>0</td>\n",
       "      <td>1</td>\n",
       "      <td>0</td>\n",
       "    </tr>\n",
       "    <tr>\n",
       "      <th>1</th>\n",
       "      <td>28</td>\n",
       "      <td>9</td>\n",
       "      <td>45</td>\n",
       "      <td>1</td>\n",
       "      <td>0</td>\n",
       "      <td>30</td>\n",
       "      <td>11</td>\n",
       "      <td>40</td>\n",
       "      <td>0</td>\n",
       "      <td>0</td>\n",
       "      <td>...</td>\n",
       "      <td>0</td>\n",
       "      <td>0</td>\n",
       "      <td>0</td>\n",
       "      <td>0</td>\n",
       "      <td>0</td>\n",
       "      <td>0</td>\n",
       "      <td>0</td>\n",
       "      <td>0</td>\n",
       "      <td>1</td>\n",
       "      <td>0</td>\n",
       "    </tr>\n",
       "    <tr>\n",
       "      <th>2</th>\n",
       "      <td>33</td>\n",
       "      <td>13</td>\n",
       "      <td>50</td>\n",
       "      <td>1</td>\n",
       "      <td>1</td>\n",
       "      <td>30</td>\n",
       "      <td>16</td>\n",
       "      <td>50</td>\n",
       "      <td>0</td>\n",
       "      <td>0</td>\n",
       "      <td>...</td>\n",
       "      <td>0</td>\n",
       "      <td>0</td>\n",
       "      <td>0</td>\n",
       "      <td>0</td>\n",
       "      <td>1</td>\n",
       "      <td>0</td>\n",
       "      <td>0</td>\n",
       "      <td>0</td>\n",
       "      <td>1</td>\n",
       "      <td>1</td>\n",
       "    </tr>\n",
       "    <tr>\n",
       "      <th>4</th>\n",
       "      <td>40</td>\n",
       "      <td>14</td>\n",
       "      <td>55</td>\n",
       "      <td>1</td>\n",
       "      <td>1</td>\n",
       "      <td>40</td>\n",
       "      <td>23</td>\n",
       "      <td>50</td>\n",
       "      <td>0</td>\n",
       "      <td>1</td>\n",
       "      <td>...</td>\n",
       "      <td>0</td>\n",
       "      <td>0</td>\n",
       "      <td>0</td>\n",
       "      <td>0</td>\n",
       "      <td>0</td>\n",
       "      <td>0</td>\n",
       "      <td>0</td>\n",
       "      <td>1</td>\n",
       "      <td>0</td>\n",
       "      <td>1</td>\n",
       "    </tr>\n",
       "    <tr>\n",
       "      <th>5</th>\n",
       "      <td>66</td>\n",
       "      <td>9</td>\n",
       "      <td>40</td>\n",
       "      <td>1</td>\n",
       "      <td>0</td>\n",
       "      <td>70</td>\n",
       "      <td>49</td>\n",
       "      <td>40</td>\n",
       "      <td>0</td>\n",
       "      <td>0</td>\n",
       "      <td>...</td>\n",
       "      <td>0</td>\n",
       "      <td>0</td>\n",
       "      <td>0</td>\n",
       "      <td>0</td>\n",
       "      <td>1</td>\n",
       "      <td>0</td>\n",
       "      <td>0</td>\n",
       "      <td>1</td>\n",
       "      <td>0</td>\n",
       "      <td>0</td>\n",
       "    </tr>\n",
       "    <tr>\n",
       "      <th>...</th>\n",
       "      <td>...</td>\n",
       "      <td>...</td>\n",
       "      <td>...</td>\n",
       "      <td>...</td>\n",
       "      <td>...</td>\n",
       "      <td>...</td>\n",
       "      <td>...</td>\n",
       "      <td>...</td>\n",
       "      <td>...</td>\n",
       "      <td>...</td>\n",
       "      <td>...</td>\n",
       "      <td>...</td>\n",
       "      <td>...</td>\n",
       "      <td>...</td>\n",
       "      <td>...</td>\n",
       "      <td>...</td>\n",
       "      <td>...</td>\n",
       "      <td>...</td>\n",
       "      <td>...</td>\n",
       "      <td>...</td>\n",
       "      <td>...</td>\n",
       "    </tr>\n",
       "    <tr>\n",
       "      <th>6508</th>\n",
       "      <td>29</td>\n",
       "      <td>9</td>\n",
       "      <td>20</td>\n",
       "      <td>1</td>\n",
       "      <td>0</td>\n",
       "      <td>30</td>\n",
       "      <td>12</td>\n",
       "      <td>20</td>\n",
       "      <td>0</td>\n",
       "      <td>0</td>\n",
       "      <td>...</td>\n",
       "      <td>0</td>\n",
       "      <td>0</td>\n",
       "      <td>0</td>\n",
       "      <td>0</td>\n",
       "      <td>0</td>\n",
       "      <td>0</td>\n",
       "      <td>0</td>\n",
       "      <td>1</td>\n",
       "      <td>0</td>\n",
       "      <td>0</td>\n",
       "    </tr>\n",
       "    <tr>\n",
       "      <th>6509</th>\n",
       "      <td>17</td>\n",
       "      <td>7</td>\n",
       "      <td>5</td>\n",
       "      <td>1</td>\n",
       "      <td>0</td>\n",
       "      <td>20</td>\n",
       "      <td>0</td>\n",
       "      <td>0</td>\n",
       "      <td>0</td>\n",
       "      <td>0</td>\n",
       "      <td>...</td>\n",
       "      <td>1</td>\n",
       "      <td>0</td>\n",
       "      <td>0</td>\n",
       "      <td>0</td>\n",
       "      <td>0</td>\n",
       "      <td>0</td>\n",
       "      <td>0</td>\n",
       "      <td>0</td>\n",
       "      <td>1</td>\n",
       "      <td>0</td>\n",
       "    </tr>\n",
       "    <tr>\n",
       "      <th>6510</th>\n",
       "      <td>31</td>\n",
       "      <td>10</td>\n",
       "      <td>56</td>\n",
       "      <td>1</td>\n",
       "      <td>1</td>\n",
       "      <td>30</td>\n",
       "      <td>14</td>\n",
       "      <td>60</td>\n",
       "      <td>0</td>\n",
       "      <td>0</td>\n",
       "      <td>...</td>\n",
       "      <td>0</td>\n",
       "      <td>0</td>\n",
       "      <td>0</td>\n",
       "      <td>1</td>\n",
       "      <td>0</td>\n",
       "      <td>0</td>\n",
       "      <td>0</td>\n",
       "      <td>0</td>\n",
       "      <td>1</td>\n",
       "      <td>1</td>\n",
       "    </tr>\n",
       "    <tr>\n",
       "      <th>6511</th>\n",
       "      <td>35</td>\n",
       "      <td>13</td>\n",
       "      <td>40</td>\n",
       "      <td>1</td>\n",
       "      <td>0</td>\n",
       "      <td>30</td>\n",
       "      <td>18</td>\n",
       "      <td>40</td>\n",
       "      <td>0</td>\n",
       "      <td>0</td>\n",
       "      <td>...</td>\n",
       "      <td>0</td>\n",
       "      <td>0</td>\n",
       "      <td>0</td>\n",
       "      <td>0</td>\n",
       "      <td>0</td>\n",
       "      <td>0</td>\n",
       "      <td>0</td>\n",
       "      <td>1</td>\n",
       "      <td>0</td>\n",
       "      <td>0</td>\n",
       "    </tr>\n",
       "    <tr>\n",
       "      <th>6512</th>\n",
       "      <td>40</td>\n",
       "      <td>13</td>\n",
       "      <td>50</td>\n",
       "      <td>1</td>\n",
       "      <td>1</td>\n",
       "      <td>40</td>\n",
       "      <td>23</td>\n",
       "      <td>50</td>\n",
       "      <td>0</td>\n",
       "      <td>0</td>\n",
       "      <td>...</td>\n",
       "      <td>0</td>\n",
       "      <td>0</td>\n",
       "      <td>0</td>\n",
       "      <td>0</td>\n",
       "      <td>0</td>\n",
       "      <td>0</td>\n",
       "      <td>0</td>\n",
       "      <td>0</td>\n",
       "      <td>1</td>\n",
       "      <td>1</td>\n",
       "    </tr>\n",
       "  </tbody>\n",
       "</table>\n",
       "<p>5517 rows × 48 columns</p>\n",
       "</div>"
      ],
      "text/plain": [
       "      age  education-num  hours-per-week  native-country  wage  bin_age  \\\n",
       "0      56              5              40               1     0       60   \n",
       "1      28              9              45               1     0       30   \n",
       "2      33             13              50               1     1       30   \n",
       "4      40             14              55               1     1       40   \n",
       "5      66              9              40               1     0       70   \n",
       "...   ...            ...             ...             ...   ...      ...   \n",
       "6508   29              9              20               1     0       30   \n",
       "6509   17              7               5               1     0       20   \n",
       "6510   31             10              56               1     1       30   \n",
       "6511   35             13              40               1     0       30   \n",
       "6512   40             13              50               1     1       40   \n",
       "\n",
       "      new_yrs_of_exp  bin_hours-per-week  workclass_ ?  \\\n",
       "0                 39                  40             0   \n",
       "1                 11                  40             0   \n",
       "2                 16                  50             0   \n",
       "4                 23                  50             0   \n",
       "5                 49                  40             0   \n",
       "...              ...                 ...           ...   \n",
       "6508              12                  20             0   \n",
       "6509               0                   0             0   \n",
       "6510              14                  60             0   \n",
       "6511              18                  40             0   \n",
       "6512              23                  50             0   \n",
       "\n",
       "      workclass_ Federal-gov  ...  occupation_ Other-service  \\\n",
       "0                          0  ...                          0   \n",
       "1                          0  ...                          0   \n",
       "2                          0  ...                          0   \n",
       "4                          1  ...                          0   \n",
       "5                          0  ...                          0   \n",
       "...                      ...  ...                        ...   \n",
       "6508                       0  ...                          0   \n",
       "6509                       0  ...                          1   \n",
       "6510                       0  ...                          0   \n",
       "6511                       0  ...                          0   \n",
       "6512                       0  ...                          0   \n",
       "\n",
       "      occupation_ Priv-house-serv  occupation_ Prof-specialty  \\\n",
       "0                               0                           0   \n",
       "1                               0                           0   \n",
       "2                               0                           0   \n",
       "4                               0                           0   \n",
       "5                               0                           0   \n",
       "...                           ...                         ...   \n",
       "6508                            0                           0   \n",
       "6509                            0                           0   \n",
       "6510                            0                           0   \n",
       "6511                            0                           0   \n",
       "6512                            0                           0   \n",
       "\n",
       "      occupation_ Protective-serv  occupation_ Sales  \\\n",
       "0                               0                  0   \n",
       "1                               0                  0   \n",
       "2                               0                  1   \n",
       "4                               0                  0   \n",
       "5                               0                  1   \n",
       "...                           ...                ...   \n",
       "6508                            0                  0   \n",
       "6509                            0                  0   \n",
       "6510                            1                  0   \n",
       "6511                            0                  0   \n",
       "6512                            0                  0   \n",
       "\n",
       "      occupation_ Tech-support  occupation_ Transport-moving  sex_ Female  \\\n",
       "0                            0                             0            0   \n",
       "1                            0                             0            0   \n",
       "2                            0                             0            0   \n",
       "4                            0                             0            1   \n",
       "5                            0                             0            1   \n",
       "...                        ...                           ...          ...   \n",
       "6508                         0                             0            1   \n",
       "6509                         0                             0            0   \n",
       "6510                         0                             0            0   \n",
       "6511                         0                             0            1   \n",
       "6512                         0                             0            0   \n",
       "\n",
       "      sex_ Male  y  \n",
       "0             1  0  \n",
       "1             1  0  \n",
       "2             1  1  \n",
       "4             0  1  \n",
       "5             0  0  \n",
       "...         ... ..  \n",
       "6508          0  0  \n",
       "6509          1  0  \n",
       "6510          1  1  \n",
       "6511          0  0  \n",
       "6512          1  1  \n",
       "\n",
       "[5517 rows x 48 columns]"
      ]
     },
     "execution_count": 67,
     "metadata": {},
     "output_type": "execute_result"
    }
   ],
   "source": [
    "cdata[cdata[\"wage\"] == cdata[\"y\"]]"
   ]
  },
  {
   "cell_type": "code",
   "execution_count": 285,
   "metadata": {},
   "outputs": [
    {
     "data": {
      "text/html": [
       "<div>\n",
       "<style scoped>\n",
       "    .dataframe tbody tr th:only-of-type {\n",
       "        vertical-align: middle;\n",
       "    }\n",
       "\n",
       "    .dataframe tbody tr th {\n",
       "        vertical-align: top;\n",
       "    }\n",
       "\n",
       "    .dataframe thead th {\n",
       "        text-align: right;\n",
       "    }\n",
       "</style>\n",
       "<table border=\"1\" class=\"dataframe\">\n",
       "  <thead>\n",
       "    <tr style=\"text-align: right;\">\n",
       "      <th></th>\n",
       "      <th>age</th>\n",
       "      <th>education-num</th>\n",
       "      <th>hours-per-week</th>\n",
       "      <th>native-country</th>\n",
       "      <th>wage</th>\n",
       "      <th>bin_age</th>\n",
       "      <th>new_yrs_of_exp</th>\n",
       "      <th>bin_hours-per-week</th>\n",
       "      <th>workclass_ ?</th>\n",
       "      <th>workclass_ Federal-gov</th>\n",
       "      <th>...</th>\n",
       "      <th>occupation_ Other-service</th>\n",
       "      <th>occupation_ Priv-house-serv</th>\n",
       "      <th>occupation_ Prof-specialty</th>\n",
       "      <th>occupation_ Protective-serv</th>\n",
       "      <th>occupation_ Sales</th>\n",
       "      <th>occupation_ Tech-support</th>\n",
       "      <th>occupation_ Transport-moving</th>\n",
       "      <th>sex_ Female</th>\n",
       "      <th>sex_ Male</th>\n",
       "      <th>y</th>\n",
       "    </tr>\n",
       "  </thead>\n",
       "  <tbody>\n",
       "    <tr>\n",
       "      <th>3</th>\n",
       "      <td>26</td>\n",
       "      <td>13</td>\n",
       "      <td>45</td>\n",
       "      <td>1</td>\n",
       "      <td>1</td>\n",
       "      <td>30</td>\n",
       "      <td>9</td>\n",
       "      <td>40</td>\n",
       "      <td>0</td>\n",
       "      <td>0</td>\n",
       "      <td>...</td>\n",
       "      <td>1</td>\n",
       "      <td>0</td>\n",
       "      <td>0</td>\n",
       "      <td>0</td>\n",
       "      <td>0</td>\n",
       "      <td>0</td>\n",
       "      <td>0</td>\n",
       "      <td>0</td>\n",
       "      <td>1</td>\n",
       "      <td>0</td>\n",
       "    </tr>\n",
       "    <tr>\n",
       "      <th>6</th>\n",
       "      <td>30</td>\n",
       "      <td>11</td>\n",
       "      <td>35</td>\n",
       "      <td>0</td>\n",
       "      <td>0</td>\n",
       "      <td>30</td>\n",
       "      <td>13</td>\n",
       "      <td>30</td>\n",
       "      <td>0</td>\n",
       "      <td>0</td>\n",
       "      <td>...</td>\n",
       "      <td>0</td>\n",
       "      <td>0</td>\n",
       "      <td>0</td>\n",
       "      <td>0</td>\n",
       "      <td>0</td>\n",
       "      <td>1</td>\n",
       "      <td>0</td>\n",
       "      <td>1</td>\n",
       "      <td>0</td>\n",
       "      <td>1</td>\n",
       "    </tr>\n",
       "    <tr>\n",
       "      <th>10</th>\n",
       "      <td>64</td>\n",
       "      <td>9</td>\n",
       "      <td>15</td>\n",
       "      <td>1</td>\n",
       "      <td>1</td>\n",
       "      <td>60</td>\n",
       "      <td>47</td>\n",
       "      <td>10</td>\n",
       "      <td>0</td>\n",
       "      <td>0</td>\n",
       "      <td>...</td>\n",
       "      <td>0</td>\n",
       "      <td>0</td>\n",
       "      <td>0</td>\n",
       "      <td>0</td>\n",
       "      <td>1</td>\n",
       "      <td>0</td>\n",
       "      <td>0</td>\n",
       "      <td>0</td>\n",
       "      <td>1</td>\n",
       "      <td>0</td>\n",
       "    </tr>\n",
       "    <tr>\n",
       "      <th>13</th>\n",
       "      <td>42</td>\n",
       "      <td>9</td>\n",
       "      <td>40</td>\n",
       "      <td>1</td>\n",
       "      <td>1</td>\n",
       "      <td>40</td>\n",
       "      <td>25</td>\n",
       "      <td>40</td>\n",
       "      <td>0</td>\n",
       "      <td>0</td>\n",
       "      <td>...</td>\n",
       "      <td>0</td>\n",
       "      <td>0</td>\n",
       "      <td>0</td>\n",
       "      <td>0</td>\n",
       "      <td>0</td>\n",
       "      <td>0</td>\n",
       "      <td>0</td>\n",
       "      <td>0</td>\n",
       "      <td>1</td>\n",
       "      <td>0</td>\n",
       "    </tr>\n",
       "    <tr>\n",
       "      <th>20</th>\n",
       "      <td>55</td>\n",
       "      <td>6</td>\n",
       "      <td>50</td>\n",
       "      <td>1</td>\n",
       "      <td>1</td>\n",
       "      <td>50</td>\n",
       "      <td>38</td>\n",
       "      <td>50</td>\n",
       "      <td>0</td>\n",
       "      <td>0</td>\n",
       "      <td>...</td>\n",
       "      <td>0</td>\n",
       "      <td>0</td>\n",
       "      <td>0</td>\n",
       "      <td>0</td>\n",
       "      <td>1</td>\n",
       "      <td>0</td>\n",
       "      <td>0</td>\n",
       "      <td>0</td>\n",
       "      <td>1</td>\n",
       "      <td>0</td>\n",
       "    </tr>\n",
       "    <tr>\n",
       "      <th>...</th>\n",
       "      <td>...</td>\n",
       "      <td>...</td>\n",
       "      <td>...</td>\n",
       "      <td>...</td>\n",
       "      <td>...</td>\n",
       "      <td>...</td>\n",
       "      <td>...</td>\n",
       "      <td>...</td>\n",
       "      <td>...</td>\n",
       "      <td>...</td>\n",
       "      <td>...</td>\n",
       "      <td>...</td>\n",
       "      <td>...</td>\n",
       "      <td>...</td>\n",
       "      <td>...</td>\n",
       "      <td>...</td>\n",
       "      <td>...</td>\n",
       "      <td>...</td>\n",
       "      <td>...</td>\n",
       "      <td>...</td>\n",
       "      <td>...</td>\n",
       "    </tr>\n",
       "    <tr>\n",
       "      <th>6494</th>\n",
       "      <td>38</td>\n",
       "      <td>13</td>\n",
       "      <td>40</td>\n",
       "      <td>1</td>\n",
       "      <td>0</td>\n",
       "      <td>40</td>\n",
       "      <td>21</td>\n",
       "      <td>40</td>\n",
       "      <td>0</td>\n",
       "      <td>0</td>\n",
       "      <td>...</td>\n",
       "      <td>0</td>\n",
       "      <td>0</td>\n",
       "      <td>0</td>\n",
       "      <td>0</td>\n",
       "      <td>0</td>\n",
       "      <td>0</td>\n",
       "      <td>0</td>\n",
       "      <td>0</td>\n",
       "      <td>1</td>\n",
       "      <td>1</td>\n",
       "    </tr>\n",
       "    <tr>\n",
       "      <th>6495</th>\n",
       "      <td>27</td>\n",
       "      <td>10</td>\n",
       "      <td>50</td>\n",
       "      <td>0</td>\n",
       "      <td>1</td>\n",
       "      <td>30</td>\n",
       "      <td>10</td>\n",
       "      <td>50</td>\n",
       "      <td>0</td>\n",
       "      <td>0</td>\n",
       "      <td>...</td>\n",
       "      <td>0</td>\n",
       "      <td>0</td>\n",
       "      <td>0</td>\n",
       "      <td>0</td>\n",
       "      <td>0</td>\n",
       "      <td>0</td>\n",
       "      <td>1</td>\n",
       "      <td>0</td>\n",
       "      <td>1</td>\n",
       "      <td>0</td>\n",
       "    </tr>\n",
       "    <tr>\n",
       "      <th>6500</th>\n",
       "      <td>46</td>\n",
       "      <td>8</td>\n",
       "      <td>35</td>\n",
       "      <td>1</td>\n",
       "      <td>1</td>\n",
       "      <td>50</td>\n",
       "      <td>29</td>\n",
       "      <td>30</td>\n",
       "      <td>0</td>\n",
       "      <td>0</td>\n",
       "      <td>...</td>\n",
       "      <td>1</td>\n",
       "      <td>0</td>\n",
       "      <td>0</td>\n",
       "      <td>0</td>\n",
       "      <td>0</td>\n",
       "      <td>0</td>\n",
       "      <td>0</td>\n",
       "      <td>0</td>\n",
       "      <td>1</td>\n",
       "      <td>0</td>\n",
       "    </tr>\n",
       "    <tr>\n",
       "      <th>6503</th>\n",
       "      <td>41</td>\n",
       "      <td>14</td>\n",
       "      <td>50</td>\n",
       "      <td>1</td>\n",
       "      <td>0</td>\n",
       "      <td>40</td>\n",
       "      <td>24</td>\n",
       "      <td>50</td>\n",
       "      <td>0</td>\n",
       "      <td>0</td>\n",
       "      <td>...</td>\n",
       "      <td>0</td>\n",
       "      <td>0</td>\n",
       "      <td>1</td>\n",
       "      <td>0</td>\n",
       "      <td>0</td>\n",
       "      <td>0</td>\n",
       "      <td>0</td>\n",
       "      <td>0</td>\n",
       "      <td>1</td>\n",
       "      <td>1</td>\n",
       "    </tr>\n",
       "    <tr>\n",
       "      <th>6506</th>\n",
       "      <td>28</td>\n",
       "      <td>11</td>\n",
       "      <td>50</td>\n",
       "      <td>1</td>\n",
       "      <td>1</td>\n",
       "      <td>30</td>\n",
       "      <td>11</td>\n",
       "      <td>50</td>\n",
       "      <td>0</td>\n",
       "      <td>0</td>\n",
       "      <td>...</td>\n",
       "      <td>0</td>\n",
       "      <td>0</td>\n",
       "      <td>1</td>\n",
       "      <td>0</td>\n",
       "      <td>0</td>\n",
       "      <td>0</td>\n",
       "      <td>0</td>\n",
       "      <td>0</td>\n",
       "      <td>1</td>\n",
       "      <td>0</td>\n",
       "    </tr>\n",
       "  </tbody>\n",
       "</table>\n",
       "<p>996 rows × 48 columns</p>\n",
       "</div>"
      ],
      "text/plain": [
       "      age  education-num  hours-per-week  native-country  wage  bin_age  \\\n",
       "3      26             13              45               1     1       30   \n",
       "6      30             11              35               0     0       30   \n",
       "10     64              9              15               1     1       60   \n",
       "13     42              9              40               1     1       40   \n",
       "20     55              6              50               1     1       50   \n",
       "...   ...            ...             ...             ...   ...      ...   \n",
       "6494   38             13              40               1     0       40   \n",
       "6495   27             10              50               0     1       30   \n",
       "6500   46              8              35               1     1       50   \n",
       "6503   41             14              50               1     0       40   \n",
       "6506   28             11              50               1     1       30   \n",
       "\n",
       "      new_yrs_of_exp  bin_hours-per-week  workclass_ ?  \\\n",
       "3                  9                  40             0   \n",
       "6                 13                  30             0   \n",
       "10                47                  10             0   \n",
       "13                25                  40             0   \n",
       "20                38                  50             0   \n",
       "...              ...                 ...           ...   \n",
       "6494              21                  40             0   \n",
       "6495              10                  50             0   \n",
       "6500              29                  30             0   \n",
       "6503              24                  50             0   \n",
       "6506              11                  50             0   \n",
       "\n",
       "      workclass_ Federal-gov  ...  occupation_ Other-service  \\\n",
       "3                          0  ...                          1   \n",
       "6                          0  ...                          0   \n",
       "10                         0  ...                          0   \n",
       "13                         0  ...                          0   \n",
       "20                         0  ...                          0   \n",
       "...                      ...  ...                        ...   \n",
       "6494                       0  ...                          0   \n",
       "6495                       0  ...                          0   \n",
       "6500                       0  ...                          1   \n",
       "6503                       0  ...                          0   \n",
       "6506                       0  ...                          0   \n",
       "\n",
       "      occupation_ Priv-house-serv  occupation_ Prof-specialty  \\\n",
       "3                               0                           0   \n",
       "6                               0                           0   \n",
       "10                              0                           0   \n",
       "13                              0                           0   \n",
       "20                              0                           0   \n",
       "...                           ...                         ...   \n",
       "6494                            0                           0   \n",
       "6495                            0                           0   \n",
       "6500                            0                           0   \n",
       "6503                            0                           1   \n",
       "6506                            0                           1   \n",
       "\n",
       "      occupation_ Protective-serv  occupation_ Sales  \\\n",
       "3                               0                  0   \n",
       "6                               0                  0   \n",
       "10                              0                  1   \n",
       "13                              0                  0   \n",
       "20                              0                  1   \n",
       "...                           ...                ...   \n",
       "6494                            0                  0   \n",
       "6495                            0                  0   \n",
       "6500                            0                  0   \n",
       "6503                            0                  0   \n",
       "6506                            0                  0   \n",
       "\n",
       "      occupation_ Tech-support  occupation_ Transport-moving  sex_ Female  \\\n",
       "3                            0                             0            0   \n",
       "6                            1                             0            1   \n",
       "10                           0                             0            0   \n",
       "13                           0                             0            0   \n",
       "20                           0                             0            0   \n",
       "...                        ...                           ...          ...   \n",
       "6494                         0                             0            0   \n",
       "6495                         0                             1            0   \n",
       "6500                         0                             0            0   \n",
       "6503                         0                             0            0   \n",
       "6506                         0                             0            0   \n",
       "\n",
       "      sex_ Male  y  \n",
       "3             1  0  \n",
       "6             0  1  \n",
       "10            1  0  \n",
       "13            1  0  \n",
       "20            1  0  \n",
       "...         ... ..  \n",
       "6494          1  1  \n",
       "6495          1  0  \n",
       "6500          1  0  \n",
       "6503          1  1  \n",
       "6506          1  0  \n",
       "\n",
       "[996 rows x 48 columns]"
      ]
     },
     "execution_count": 285,
     "metadata": {},
     "output_type": "execute_result"
    }
   ],
   "source": [
    "cdata[cdata[\"wage\"] != cdata[\"y\"]]"
   ]
  },
  {
   "cell_type": "code",
   "execution_count": 270,
   "metadata": {},
   "outputs": [
    {
     "data": {
      "text/plain": [
       "0.15292491939198527"
      ]
     },
     "execution_count": 270,
     "metadata": {},
     "output_type": "execute_result"
    }
   ],
   "source": [
    "996/(996+5517)"
   ]
  },
  {
   "cell_type": "code",
   "execution_count": 271,
   "metadata": {},
   "outputs": [
    {
     "data": {
      "text/plain": [
       "0.15123598955934286"
      ]
     },
     "execution_count": 271,
     "metadata": {},
     "output_type": "execute_result"
    }
   ],
   "source": [
    "985/(985+5528)"
   ]
  },
  {
   "cell_type": "code",
   "execution_count": 307,
   "metadata": {},
   "outputs": [],
   "source": [
    "pred_proba = [i[1] for i in results.predict_proba(X)]\n",
    "\n",
    "pred_df = pd.DataFrame({'true_values': cdata[\"wage\"],\n",
    "                        'pred_probs':pred_proba,\n",
    "                        'pred_values': cdata[\"y\"]})"
   ]
  },
  {
   "cell_type": "code",
   "execution_count": 310,
   "metadata": {},
   "outputs": [
    {
     "data": {
      "image/png": "[encoded data removed]",
      "text/plain": [
       "<Figure size 720x504 with 1 Axes>"
      ]
     },
     "metadata": {
      "needs_background": "light"
     },
     "output_type": "display_data"
    }
   ],
   "source": [
    "# Create figure.\n",
    "plt.figure(figsize = (10,7))\n",
    "\n",
    "# Create two histograms of observations.\n",
    "plt.hist(pred_df[pred_df['true_values'] == 0]['pred_probs'],\n",
    "         bins = 25,\n",
    "         color = 'b',\n",
    "         alpha = 0.6,\n",
    "         label = '<=50k')\n",
    "plt.hist(pred_df[pred_df['true_values'] == 1]['pred_probs'],\n",
    "         bins = 25,\n",
    "         color = 'orange',\n",
    "         alpha = 0.6,\n",
    "         label = '>50k')\n",
    "\n",
    "# Add vertical line at P(Outcome = 1) = 0.5.\n",
    "plt.vlines(x = 0.5,\n",
    "           ymin = 0,\n",
    "           ymax = 2000,\n",
    "           color = 'r',\n",
    "           linestyle = '--',\n",
    "           linewidth=2)\n",
    "\n",
    "# Add annotations for TN, FN, TP, FP.\n",
    "plt.annotate(xy = (0.04, 15),\n",
    "             s = 'TN',\n",
    "             size = 20)\n",
    "\n",
    "plt.annotate(xy = (0.1, 0),\n",
    "             s = 'FN',\n",
    "             size = 20)\n",
    "\n",
    "plt.annotate(xy = (0.85, 1),\n",
    "             s = 'TP',\n",
    "             size = 20)\n",
    "\n",
    "plt.annotate(xy = (0.53, 1),\n",
    "             s = 'FP',\n",
    "             size = 20)\n",
    "\n",
    "# Label axes.\n",
    "plt.title('Distribution of P(Outcome = >50k)', fontsize = 22)\n",
    "plt.ylabel('Frequency', fontsize = 18)\n",
    "plt.xlabel('Predicted Probability that Outcome = >50k', fontsize = 18)\n",
    "\n",
    "# Create legend.\n",
    "plt.legend(fontsize = 20);"
   ]
  },
  {
   "cell_type": "code",
   "execution_count": 311,
   "metadata": {},
   "outputs": [
    {
     "data": {
      "image/png": "[encoded data removed]",
      "text/plain": [
       "<Figure size 720x504 with 1 Axes>"
      ]
     },
     "metadata": {
      "needs_background": "light"
     },
     "output_type": "display_data"
    }
   ],
   "source": [
    "import numpy as np\n",
    "\n",
    "# Create figure.\n",
    "plt.figure(figsize = (10,7))\n",
    "\n",
    "# Create threshold values.\n",
    "thresholds = np.linspace(0, 1, 200)\n",
    "\n",
    "# Define function to calculate sensitivity. (True positive rate.)\n",
    "def TPR(df, true_col, pred_prob_col, threshold):\n",
    "    true_positive = df[(df[true_col] == 1) & (df[pred_prob_col] >= threshold)].shape[0]\n",
    "    false_negative = df[(df[true_col] == 1) & (df[pred_prob_col] < threshold)].shape[0]\n",
    "    return true_positive / (true_positive + false_negative)\n",
    "    \n",
    "\n",
    "# Define function to calculate 1 - specificity. (False positive rate.)\n",
    "def FPR(df, true_col, pred_prob_col, threshold):\n",
    "    true_negative = df[(df[true_col] == 0) & (df[pred_prob_col] <= threshold)].shape[0]\n",
    "    false_positive = df[(df[true_col] == 0) & (df[pred_prob_col] > threshold)].shape[0]\n",
    "    return 1 - (true_negative / (true_negative + false_positive))\n",
    "    \n",
    "# Calculate sensitivity & 1-specificity for each threshold between 0 and 1.\n",
    "tpr_values = [TPR(pred_df, 'true_values', 'pred_probs', prob) for prob in thresholds]\n",
    "fpr_values = [FPR(pred_df, 'true_values', 'pred_probs', prob) for prob in thresholds]\n",
    "\n",
    "# Plot ROC curve.\n",
    "plt.plot(fpr_values, # False Positive Rate on X-axis\n",
    "         tpr_values, # True Positive Rate on Y-axis\n",
    "         label='ROC Curve')\n",
    "\n",
    "# Plot baseline. (Perfect overlap between the two populations.)\n",
    "plt.plot(np.linspace(0, 1, 200),\n",
    "         np.linspace(0, 1, 200),\n",
    "         label='baseline',\n",
    "         linestyle='--')\n",
    "\n",
    "# Label axes.\n",
    "plt.title('Receiver Operating Characteristic Curve', fontsize=22)\n",
    "plt.ylabel('Sensitivity', fontsize=18)\n",
    "plt.xlabel('1 - Specificity', fontsize=18)\n",
    "\n",
    "# Create legend.\n",
    "plt.legend(fontsize=16);"
   ]
  },
  {
   "cell_type": "code",
   "execution_count": 68,
   "metadata": {},
   "outputs": [],
   "source": [
    "test_data = pd.read_csv(\"./data/test_data.csv\")"
   ]
  },
  {
   "cell_type": "code",
   "execution_count": 69,
   "metadata": {},
   "outputs": [
    {
     "data": {
      "text/html": [
       "<div>\n",
       "<style scoped>\n",
       "    .dataframe tbody tr th:only-of-type {\n",
       "        vertical-align: middle;\n",
       "    }\n",
       "\n",
       "    .dataframe tbody tr th {\n",
       "        vertical-align: top;\n",
       "    }\n",
       "\n",
       "    .dataframe thead th {\n",
       "        text-align: right;\n",
       "    }\n",
       "</style>\n",
       "<table border=\"1\" class=\"dataframe\">\n",
       "  <thead>\n",
       "    <tr style=\"text-align: right;\">\n",
       "      <th></th>\n",
       "      <th>age</th>\n",
       "      <th>workclass</th>\n",
       "      <th>fnlwgt</th>\n",
       "      <th>education</th>\n",
       "      <th>education-num</th>\n",
       "      <th>marital-status</th>\n",
       "      <th>occupation</th>\n",
       "      <th>relationship</th>\n",
       "      <th>sex</th>\n",
       "      <th>capital-gain</th>\n",
       "      <th>capital-loss</th>\n",
       "      <th>hours-per-week</th>\n",
       "      <th>native-country</th>\n",
       "    </tr>\n",
       "  </thead>\n",
       "  <tbody>\n",
       "    <tr>\n",
       "      <th>0</th>\n",
       "      <td>25</td>\n",
       "      <td>Private</td>\n",
       "      <td>226802</td>\n",
       "      <td>11th</td>\n",
       "      <td>7</td>\n",
       "      <td>Never-married</td>\n",
       "      <td>Machine-op-inspct</td>\n",
       "      <td>Own-child</td>\n",
       "      <td>Male</td>\n",
       "      <td>0</td>\n",
       "      <td>0</td>\n",
       "      <td>40</td>\n",
       "      <td>United-States</td>\n",
       "    </tr>\n",
       "    <tr>\n",
       "      <th>1</th>\n",
       "      <td>38</td>\n",
       "      <td>Private</td>\n",
       "      <td>89814</td>\n",
       "      <td>HS-grad</td>\n",
       "      <td>9</td>\n",
       "      <td>Married-civ-spouse</td>\n",
       "      <td>Farming-fishing</td>\n",
       "      <td>Husband</td>\n",
       "      <td>Male</td>\n",
       "      <td>0</td>\n",
       "      <td>0</td>\n",
       "      <td>50</td>\n",
       "      <td>United-States</td>\n",
       "    </tr>\n",
       "    <tr>\n",
       "      <th>2</th>\n",
       "      <td>28</td>\n",
       "      <td>Local-gov</td>\n",
       "      <td>336951</td>\n",
       "      <td>Assoc-acdm</td>\n",
       "      <td>12</td>\n",
       "      <td>Married-civ-spouse</td>\n",
       "      <td>Protective-serv</td>\n",
       "      <td>Husband</td>\n",
       "      <td>Male</td>\n",
       "      <td>0</td>\n",
       "      <td>0</td>\n",
       "      <td>40</td>\n",
       "      <td>United-States</td>\n",
       "    </tr>\n",
       "    <tr>\n",
       "      <th>3</th>\n",
       "      <td>44</td>\n",
       "      <td>Private</td>\n",
       "      <td>160323</td>\n",
       "      <td>Some-college</td>\n",
       "      <td>10</td>\n",
       "      <td>Married-civ-spouse</td>\n",
       "      <td>Machine-op-inspct</td>\n",
       "      <td>Husband</td>\n",
       "      <td>Male</td>\n",
       "      <td>7688</td>\n",
       "      <td>0</td>\n",
       "      <td>40</td>\n",
       "      <td>United-States</td>\n",
       "    </tr>\n",
       "    <tr>\n",
       "      <th>4</th>\n",
       "      <td>18</td>\n",
       "      <td>?</td>\n",
       "      <td>103497</td>\n",
       "      <td>Some-college</td>\n",
       "      <td>10</td>\n",
       "      <td>Never-married</td>\n",
       "      <td>?</td>\n",
       "      <td>Own-child</td>\n",
       "      <td>Female</td>\n",
       "      <td>0</td>\n",
       "      <td>0</td>\n",
       "      <td>30</td>\n",
       "      <td>United-States</td>\n",
       "    </tr>\n",
       "  </tbody>\n",
       "</table>\n",
       "</div>"
      ],
      "text/plain": [
       "   age   workclass  fnlwgt      education  education-num       marital-status  \\\n",
       "0   25     Private  226802           11th              7        Never-married   \n",
       "1   38     Private   89814        HS-grad              9   Married-civ-spouse   \n",
       "2   28   Local-gov  336951     Assoc-acdm             12   Married-civ-spouse   \n",
       "3   44     Private  160323   Some-college             10   Married-civ-spouse   \n",
       "4   18           ?  103497   Some-college             10        Never-married   \n",
       "\n",
       "           occupation relationship      sex  capital-gain  capital-loss  \\\n",
       "0   Machine-op-inspct    Own-child     Male             0             0   \n",
       "1     Farming-fishing      Husband     Male             0             0   \n",
       "2     Protective-serv      Husband     Male             0             0   \n",
       "3   Machine-op-inspct      Husband     Male          7688             0   \n",
       "4                   ?    Own-child   Female             0             0   \n",
       "\n",
       "   hours-per-week  native-country  \n",
       "0              40   United-States  \n",
       "1              50   United-States  \n",
       "2              40   United-States  \n",
       "3              40   United-States  \n",
       "4              30   United-States  "
      ]
     },
     "execution_count": 69,
     "metadata": {},
     "output_type": "execute_result"
    }
   ],
   "source": [
    "test_data.head()"
   ]
  },
  {
   "cell_type": "markdown",
   "metadata": {},
   "source": [
    "PREPARE THE TEST DATA"
   ]
  },
  {
   "cell_type": "code",
   "execution_count": 70,
   "metadata": {},
   "outputs": [],
   "source": [
    "ctest_data = test_data.copy()"
   ]
  },
  {
   "cell_type": "code",
   "execution_count": 71,
   "metadata": {},
   "outputs": [],
   "source": [
    "ctest_data[\"native-country\"] = ctest_data[\"native-country\"].map(map_country)"
   ]
  },
  {
   "cell_type": "code",
   "execution_count": 72,
   "metadata": {},
   "outputs": [
    {
     "data": {
      "text/plain": [
       "array([1, 0])"
      ]
     },
     "execution_count": 72,
     "metadata": {},
     "output_type": "execute_result"
    }
   ],
   "source": [
    "ctest_data[\"native-country\"].unique()"
   ]
  },
  {
   "cell_type": "code",
   "execution_count": 73,
   "metadata": {},
   "outputs": [],
   "source": [
    "ctest_data[\"bin_age\"] = ctest_data[\"age\"].map(bin_age)"
   ]
  },
  {
   "cell_type": "code",
   "execution_count": 74,
   "metadata": {},
   "outputs": [
    {
     "data": {
      "text/plain": [
       "array([20, 40, 30, 60, 50, 70, 80, 90])"
      ]
     },
     "execution_count": 74,
     "metadata": {},
     "output_type": "execute_result"
    }
   ],
   "source": [
    "ctest_data[\"bin_age\"].unique()"
   ]
  },
  {
   "cell_type": "code",
   "execution_count": 75,
   "metadata": {},
   "outputs": [],
   "source": [
    "ctest_data[\"new_yrs_of_exp\"]  = ctest_data[\"age\"] - 17"
   ]
  },
  {
   "cell_type": "code",
   "execution_count": 76,
   "metadata": {},
   "outputs": [],
   "source": [
    "ctest_data[\"bin_hours-per-week\"] = ctest_data[\"hours-per-week\"].map(bin_age)"
   ]
  },
  {
   "cell_type": "code",
   "execution_count": 77,
   "metadata": {},
   "outputs": [],
   "source": [
    "ctest_data.drop(columns=[\"fnlwgt\", \"education\", \"capital-gain\", \"capital-loss\"], inplace=True)"
   ]
  },
  {
   "cell_type": "code",
   "execution_count": 78,
   "metadata": {},
   "outputs": [],
   "source": [
    "ctest_data = pd.get_dummies(ctest_data, columns=[\"workclass\", \"marital-status\", \"relationship\", \"occupation\", \"sex\"])"
   ]
  },
  {
   "cell_type": "code",
   "execution_count": 79,
   "metadata": {},
   "outputs": [
    {
     "data": {
      "text/plain": [
       "(16281, 46)"
      ]
     },
     "execution_count": 79,
     "metadata": {},
     "output_type": "execute_result"
    }
   ],
   "source": [
    "ctest_data.shape"
   ]
  },
  {
   "cell_type": "code",
   "execution_count": 80,
   "metadata": {},
   "outputs": [],
   "source": [
    "for x in list(X.columns):\n",
    "    if x not in list(ctest_data.columns):\n",
    "        print(x)"
   ]
  },
  {
   "cell_type": "code",
   "execution_count": 81,
   "metadata": {},
   "outputs": [],
   "source": [
    "ctest_data[\"y\"] = results.predict(ctest_data)"
   ]
  },
  {
   "cell_type": "code",
   "execution_count": 82,
   "metadata": {},
   "outputs": [
    {
     "data": {
      "text/plain": [
       "0    13111\n",
       "1     3170\n",
       "Name: y, dtype: int64"
      ]
     },
     "execution_count": 82,
     "metadata": {},
     "output_type": "execute_result"
    }
   ],
   "source": [
    "ctest_data[\"y\"].value_counts()"
   ]
  },
  {
   "cell_type": "code",
   "execution_count": 298,
   "metadata": {},
   "outputs": [],
   "source": [
    "submission_df = pd.DataFrame(results.predict_proba(ctest_data), columns=[\"<=50k\", \">50k\"])"
   ]
  },
  {
   "cell_type": "code",
   "execution_count": 302,
   "metadata": {},
   "outputs": [],
   "source": [
    "# submission_df[\">50k\"].to_csv(\"./data/Casey_Mac_Gouri_submission.csv\", index=False)"
   ]
  },
  {
   "cell_type": "code",
   "execution_count": 303,
   "metadata": {},
   "outputs": [],
   "source": [
    "herewego  = pd.read_csv(\"./data/Casey_Mac_Gouri_submission.csv\")"
   ]
  },
  {
   "cell_type": "code",
   "execution_count": 304,
   "metadata": {},
   "outputs": [
    {
     "data": {
      "text/html": [
       "<div>\n",
       "<style scoped>\n",
       "    .dataframe tbody tr th:only-of-type {\n",
       "        vertical-align: middle;\n",
       "    }\n",
       "\n",
       "    .dataframe tbody tr th {\n",
       "        vertical-align: top;\n",
       "    }\n",
       "\n",
       "    .dataframe thead th {\n",
       "        text-align: right;\n",
       "    }\n",
       "</style>\n",
       "<table border=\"1\" class=\"dataframe\">\n",
       "  <thead>\n",
       "    <tr style=\"text-align: right;\">\n",
       "      <th></th>\n",
       "      <th>wage</th>\n",
       "    </tr>\n",
       "  </thead>\n",
       "  <tbody>\n",
       "    <tr>\n",
       "      <th>0</th>\n",
       "      <td>0.018752</td>\n",
       "    </tr>\n",
       "    <tr>\n",
       "      <th>1</th>\n",
       "      <td>0.152187</td>\n",
       "    </tr>\n",
       "    <tr>\n",
       "      <th>2</th>\n",
       "      <td>0.482068</td>\n",
       "    </tr>\n",
       "    <tr>\n",
       "      <th>3</th>\n",
       "      <td>0.416371</td>\n",
       "    </tr>\n",
       "    <tr>\n",
       "      <th>4</th>\n",
       "      <td>0.005717</td>\n",
       "    </tr>\n",
       "    <tr>\n",
       "      <th>...</th>\n",
       "      <td>...</td>\n",
       "    </tr>\n",
       "    <tr>\n",
       "      <th>16276</th>\n",
       "      <td>0.077860</td>\n",
       "    </tr>\n",
       "    <tr>\n",
       "      <th>16277</th>\n",
       "      <td>0.105982</td>\n",
       "    </tr>\n",
       "    <tr>\n",
       "      <th>16278</th>\n",
       "      <td>0.821703</td>\n",
       "    </tr>\n",
       "    <tr>\n",
       "      <th>16279</th>\n",
       "      <td>0.146984</td>\n",
       "    </tr>\n",
       "    <tr>\n",
       "      <th>16280</th>\n",
       "      <td>0.813723</td>\n",
       "    </tr>\n",
       "  </tbody>\n",
       "</table>\n",
       "<p>16281 rows × 1 columns</p>\n",
       "</div>"
      ],
      "text/plain": [
       "           wage\n",
       "0      0.018752\n",
       "1      0.152187\n",
       "2      0.482068\n",
       "3      0.416371\n",
       "4      0.005717\n",
       "...         ...\n",
       "16276  0.077860\n",
       "16277  0.105982\n",
       "16278  0.821703\n",
       "16279  0.146984\n",
       "16280  0.813723\n",
       "\n",
       "[16281 rows x 1 columns]"
      ]
     },
     "execution_count": 304,
     "metadata": {},
     "output_type": "execute_result"
    }
   ],
   "source": [
    "herewego"
   ]
  },
  {
   "cell_type": "markdown",
   "metadata": {},
   "source": [
    "Adding more values with 1"
   ]
  },
  {
   "cell_type": "code",
   "execution_count": 330,
   "metadata": {},
   "outputs": [],
   "source": [
    "random_df = cdata.copy()\n",
    "random_df.drop(columns=[\"y\"], inplace=True)"
   ]
  },
  {
   "cell_type": "code",
   "execution_count": 331,
   "metadata": {},
   "outputs": [],
   "source": [
    "random_df1= random_df[random_df[\"wage\"]==1].sample(n=2_000, random_state=42, replace=True)"
   ]
  },
  {
   "cell_type": "code",
   "execution_count": 332,
   "metadata": {},
   "outputs": [
    {
     "data": {
      "text/plain": [
       "1    2000\n",
       "Name: wage, dtype: int64"
      ]
     },
     "execution_count": 332,
     "metadata": {},
     "output_type": "execute_result"
    }
   ],
   "source": [
    "random_df1[\"wage\"].value_counts()"
   ]
  },
  {
   "cell_type": "code",
   "execution_count": 333,
   "metadata": {},
   "outputs": [
    {
     "data": {
      "text/plain": [
       "0    4945\n",
       "1    1568\n",
       "Name: wage, dtype: int64"
      ]
     },
     "execution_count": 333,
     "metadata": {},
     "output_type": "execute_result"
    }
   ],
   "source": [
    "cdata[\"wage\"].value_counts()"
   ]
  },
  {
   "cell_type": "code",
   "execution_count": 334,
   "metadata": {},
   "outputs": [],
   "source": [
    "random_df = pd.concat((random_df, random_df1), axis=0)"
   ]
  },
  {
   "cell_type": "code",
   "execution_count": 335,
   "metadata": {},
   "outputs": [
    {
     "data": {
      "text/plain": [
       "0    4945\n",
       "1    3568\n",
       "Name: wage, dtype: int64"
      ]
     },
     "execution_count": 335,
     "metadata": {},
     "output_type": "execute_result"
    }
   ],
   "source": [
    "random_df[\"wage\"].value_counts()"
   ]
  },
  {
   "cell_type": "code",
   "execution_count": 336,
   "metadata": {},
   "outputs": [],
   "source": [
    "Xy = random_df.drop(columns=[\"wage\"])"
   ]
  },
  {
   "cell_type": "code",
   "execution_count": 341,
   "metadata": {},
   "outputs": [
    {
     "data": {
      "text/plain": [
       "Index(['age', 'education-num', 'hours-per-week', 'native-country', 'bin_age',\n",
       "       'new_yrs_of_exp', 'bin_hours-per-week', 'workclass_ ?',\n",
       "       'workclass_ Federal-gov', 'workclass_ Local-gov',\n",
       "       'workclass_ Never-worked', 'workclass_ Private',\n",
       "       'workclass_ Self-emp-inc', 'workclass_ Self-emp-not-inc',\n",
       "       'workclass_ State-gov', 'workclass_ Without-pay',\n",
       "       'marital-status_ Divorced', 'marital-status_ Married-AF-spouse',\n",
       "       'marital-status_ Married-civ-spouse',\n",
       "       'marital-status_ Married-spouse-absent',\n",
       "       'marital-status_ Never-married', 'marital-status_ Separated',\n",
       "       'marital-status_ Widowed', 'relationship_ Husband',\n",
       "       'relationship_ Not-in-family', 'relationship_ Other-relative',\n",
       "       'relationship_ Own-child', 'relationship_ Unmarried',\n",
       "       'relationship_ Wife', 'occupation_ ?', 'occupation_ Adm-clerical',\n",
       "       'occupation_ Armed-Forces', 'occupation_ Craft-repair',\n",
       "       'occupation_ Exec-managerial', 'occupation_ Farming-fishing',\n",
       "       'occupation_ Handlers-cleaners', 'occupation_ Machine-op-inspct',\n",
       "       'occupation_ Other-service', 'occupation_ Priv-house-serv',\n",
       "       'occupation_ Prof-specialty', 'occupation_ Protective-serv',\n",
       "       'occupation_ Sales', 'occupation_ Tech-support',\n",
       "       'occupation_ Transport-moving', 'sex_ Female', 'sex_ Male'],\n",
       "      dtype='object')"
      ]
     },
     "execution_count": 341,
     "metadata": {},
     "output_type": "execute_result"
    }
   ],
   "source": [
    "Xy.columns"
   ]
  },
  {
   "cell_type": "code",
   "execution_count": 343,
   "metadata": {},
   "outputs": [],
   "source": [
    "y = random_df[\"wage\"]"
   ]
  },
  {
   "cell_type": "code",
   "execution_count": 344,
   "metadata": {},
   "outputs": [],
   "source": [
    "X_train, X_test, y_train, y_test = train_test_split(Xy, y, shuffle=True, stratify=y, test_size=0.33, random_state=42)\n",
    "\n",
    "pipe = Pipeline([('classifier', GradientBoostingClassifier(random_state=42))])\n",
    "hyper_params = {}\n",
    "\n",
    "# Perform Grid Search\n",
    "gridcv = GridSearchCV(pipe,\n",
    "                      param_grid=hyper_params,\n",
    "                      cv=5,\n",
    "                      scoring=\"roc_auc\")\n",
    "# results\n",
    "results = gridcv.fit(X_train, y_train)"
   ]
  },
  {
   "cell_type": "code",
   "execution_count": 345,
   "metadata": {},
   "outputs": [
    {
     "data": {
      "text/plain": [
       "0.9177099975120201"
      ]
     },
     "execution_count": 345,
     "metadata": {},
     "output_type": "execute_result"
    }
   ],
   "source": [
    "results.score(X_train, y_train)"
   ]
  },
  {
   "cell_type": "code",
   "execution_count": 346,
   "metadata": {},
   "outputs": [
    {
     "data": {
      "text/plain": [
       "0.9005852287859117"
      ]
     },
     "execution_count": 346,
     "metadata": {},
     "output_type": "execute_result"
    }
   ],
   "source": [
    "results.score(X_test, y_test)"
   ]
  },
  {
   "cell_type": "code",
   "execution_count": 350,
   "metadata": {},
   "outputs": [],
   "source": [
    "random_df[\"y\"] = results.predict(Xy)"
   ]
  },
  {
   "cell_type": "code",
   "execution_count": 352,
   "metadata": {},
   "outputs": [],
   "source": [
    "pred_proba = [i[1] for i in results.predict_proba(Xy)]\n",
    "\n",
    "pred_df = pd.DataFrame({'true_values': random_df[\"wage\"],\n",
    "                        'pred_probs':pred_proba,\n",
    "                        'pred_values': random_df[\"y\"]})"
   ]
  },
  {
   "cell_type": "code",
   "execution_count": 354,
   "metadata": {},
   "outputs": [
    {
     "data": {
      "image/png": "[encoded data removed]",
      "text/plain": [
       "<Figure size 720x504 with 1 Axes>"
      ]
     },
     "metadata": {
      "needs_background": "light"
     },
     "output_type": "display_data"
    }
   ],
   "source": [
    "# Create figure.\n",
    "plt.figure(figsize = (10,7))\n",
    "\n",
    "# Create two histograms of observations.\n",
    "plt.hist(pred_df[pred_df['true_values'] == 0]['pred_probs'],\n",
    "         bins = 25,\n",
    "         color = 'b',\n",
    "         alpha = 0.6,\n",
    "         label = '<=50k')\n",
    "plt.hist(pred_df[pred_df['true_values'] == 1]['pred_probs'],\n",
    "         bins = 25,\n",
    "         color = 'orange',\n",
    "         alpha = 0.6,\n",
    "         label = '>50k')\n",
    "\n",
    "# Add vertical line at P(Outcome = 1) = 0.5.\n",
    "plt.vlines(x = 0.5,\n",
    "           ymin = 0,\n",
    "           ymax = 1750,\n",
    "           color = 'r',\n",
    "           linestyle = '--',\n",
    "           linewidth=2)\n",
    "\n",
    "# Add annotations for TN, FN, TP, FP.\n",
    "plt.annotate(xy = (0.04, 15),\n",
    "             s = 'TN',\n",
    "             size = 20)\n",
    "\n",
    "plt.annotate(xy = (0.1, 0),\n",
    "             s = 'FN',\n",
    "             size = 20)\n",
    "\n",
    "plt.annotate(xy = (0.85, 1),\n",
    "             s = 'TP',\n",
    "             size = 20)\n",
    "\n",
    "plt.annotate(xy = (0.53, 1),\n",
    "             s = 'FP',\n",
    "             size = 20)\n",
    "\n",
    "# Label axes.\n",
    "plt.title('Distribution of P(Outcome = >50k)', fontsize = 22)\n",
    "plt.ylabel('Frequency', fontsize = 18)\n",
    "plt.xlabel('Predicted Probability that Outcome = >50k', fontsize = 18)\n",
    "\n",
    "# Create legend.\n",
    "plt.legend(fontsize = 20);"
   ]
  },
  {
   "cell_type": "code",
   "execution_count": null,
   "metadata": {},
   "outputs": [],
   "source": []
  }
 ],
 "metadata": {
  "kernelspec": {
   "display_name": "Python 3",
   "language": "python",
   "name": "python3"
  },
  "language_info": {
   "codemirror_mode": {
    "name": "ipython",
    "version": 3
   },
   "file_extension": ".py",
   "mimetype": "text/x-python",
   "name": "python",
   "nbconvert_exporter": "python",
   "pygments_lexer": "ipython3",
   "version": "3.7.4"
  }
 },
 "nbformat": 4,
 "nbformat_minor": 2
}
